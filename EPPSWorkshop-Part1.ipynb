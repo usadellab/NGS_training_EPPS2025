{
  "cells": [
    {
      "id": "4d7386e2",
      "cell_type": "markdown",
      "source": "# Quick & Easy: Visualizing NGS Count Data with Python",
      "metadata": {}
    },
    {
      "id": "c90d3aff-3dc6-4243-8c89-a89ea0b1c918",
      "cell_type": "markdown",
      "source": "**Welcome!** This workshop will guide you through the process of analyzing RNA-seq data from a real-world plant biology experiment. You'll use Python to perform a differential gene expression analysis and visualize the results.",
      "metadata": {}
    },
    {
      "id": "dfc9e3f4-6b01-4e5d-9f32-8d3a8cb8d35c",
      "cell_type": "markdown",
      "source": "## The Big Picture: From Reads to a Counts Table",
      "metadata": {}
    },
    {
      "id": "80735230-0f0f-4046-a675-f1cae4f8e400",
      "cell_type": "markdown",
      "source": "Before we dive into the data, it's helpful to understand where it came from. The goal of an RNA-seq experiment is to measure gene expression levels. The raw data consists of millions of short sequences called **reads**, which are fragments of RNA. A standard bioinformatics pipeline processes these reads to generate the final counts table we'll use in this workshop. This section is for your reference if you wish to know more about the computational steps involved.",
      "metadata": {}
    },
    {
      "id": "63bb82a1-c7fc-4259-be2d-da1c5e487c12",
      "cell_type": "markdown",
      "source": "### Bioinformatics Pipeline: (For Reference)",
      "metadata": {}
    },
    {
      "id": "f1daaf34-0fc3-462e-965c-b191e844259a",
      "cell_type": "markdown",
      "source": "1.  **Downsample Raw Reads:** Since we are performing a training course, we have downsampled our raw data (FASTQ files) to a manageable size to save time on processing. Here is the command that was run to perform this action:\n```bash\n  for file in *.fastq.gz do      \n    output_file=downsampled_fastqs/$(basename ${file}.gz)\n    seqtk sample -s100 ${file} 0.25 > ${output_file}    \n  done\n```\n2. **Alignment:** The cleaned reads are aligned to a reference genome (in our case, *Arabidopsis thaliana*). We used the `STAR` aligner for this step:\n```bash\n# Note: This step requires a pre-built STAR index.\n  STAR --genomeDir ./star_index/ --readFilesIn ${file} --runThreadN 4 --outFileNamePrefix aligned_bams/${sample_name}_ --outSAMtype BAM SortedByCoordinate\n```\n3.  **Read Counting:** An annotation file (GFF3) is used to count how many reads overlap with each gene. We used `featureCounts` for this step, which produced the `gene_counts.txt` file that we'll be using for our analysis:\n```bash\n  featureCounts -T 8 -t gene -g ID -a Arabidopsis_thaliana.TAIR10.61.gff3 -o gene_counts.txt aligned_bams/*.bam\n```",
      "metadata": {}
    },
    {
      "id": "7b6a8858-9110-4c8a-a455-14db199cac63",
      "cell_type": "markdown",
      "source": "For this training, we have already performed this pipeline and generated a down-sampled counts table and a metadata file to ensure the analysis runs quickly.",
      "metadata": {}
    },
    {
      "id": "ab5a40e2",
      "cell_type": "markdown",
      "source": "## Why Python?\n1. Python offers a clearer, more readable syntax and robust error handling, making complex programming tasks easier to manage and debug compared to Bash scripts.\n2. With an extensive ecosystem of libraries and frameworks, Python can handle a wider range of applications—from data analysis to web development—while Bash is primarily suited for system and file management tasks.\n3. Python is cross-platform compatible, which means that it can run on any device you can imagine (including your fridge). A strong community support provides continuous improvements and resources, ensuring more sustainable, maintainable, and scalable solutions than Bash.\n",
      "metadata": {}
    },
    {
      "id": "27c3a411",
      "cell_type": "markdown",
      "source": "## 1. Python Packages: Installation and Importing",
      "metadata": {}
    },
    {
      "id": "0865e3d0",
      "cell_type": "markdown",
      "source": "Python offers a wide variety of packages to help you with your data analysis. More and more packages are being created or you can even create your own! \n\n**Installation of packages**\n\nThere are several options to install packages:\n1. Using pip for your python version in the command line (https://pypi.org/project/pip/)\n2. Using a tool like conda (https://docs.conda.io/en/latest/), which also includes python and an environment management system\n3. Download packages from github (if you have a special scientific case and someone in another lab already wrote some code you can use) and install manually.\n",
      "metadata": {}
    },
    {
      "id": "212d9a4d",
      "cell_type": "markdown",
      "source": "**Importing packages**\n\nNow we have installed our first packages. How do we use it in python?",
      "metadata": {}
    },
    {
      "id": "78637b4e",
      "cell_type": "markdown",
      "source": "We first need to import the package into our script. To access functions a package offer us, we use the package name to reference it. For this reason we can also give pandas as shorter name, so we do not need to type out pandas everytime we want to use it. ",
      "metadata": {}
    },
    {
      "id": "ade4b3a0",
      "cell_type": "code",
      "source": "#import pandas\nimport pandas as pd\n\n# Importing just one function from a package is also possible, for example:\n# from matplotlib import pyplot",
      "metadata": {},
      "outputs": [],
      "execution_count": 20
    },
    {
      "id": "e5182972",
      "cell_type": "markdown",
      "source": "Available packages (should) come with documentation. For pandas you can check out their extensive documentation website here: https://pandas.pydata.org/docs/index.html ",
      "metadata": {}
    },
    {
      "id": "7e4d27d5",
      "cell_type": "markdown",
      "source": "# 2. Data types in Python\n\nBefore we can use our imported package, we need to learn about data types that are used in Python. Here we want to give you a short overview over those datatypes.",
      "metadata": {}
    },
    {
      "id": "52c33023",
      "cell_type": "markdown",
      "source": "### Lists\n",
      "metadata": {}
    },
    {
      "id": "dff6319c",
      "cell_type": "markdown",
      "source": "**A list is an ordered, mutable collection of items.**",
      "metadata": {}
    },
    {
      "id": "10fc2730",
      "cell_type": "code",
      "source": "fruits = [\"apple\", \"banana\", \"cherry\"]\nfruits",
      "metadata": {},
      "outputs": [
        {
          "data": {
            "text/plain": [
              "['apple', 'banana', 'cherry']"
            ]
          },
          "execution_count": 21,
          "metadata": {},
          "output_type": "execute_result"
        }
      ],
      "execution_count": 21
    },
    {
      "id": "4e85c0ef",
      "cell_type": "markdown",
      "source": "Elements of a list can be accessed using brackets: [] \n\nBeware: Python starts counting elements at 0! Go ahead and test what happens when you try to access different items in the list.",
      "metadata": {}
    },
    {
      "id": "9a2824ca",
      "cell_type": "code",
      "source": "print(fruits[0])",
      "metadata": {},
      "outputs": [
        {
          "name": "stdout",
          "output_type": "stream",
          "text": "apple\n"
        }
      ],
      "execution_count": 22
    },
    {
      "id": "65234dd9",
      "cell_type": "markdown",
      "source": "To add to a list, we can use the append fuction.",
      "metadata": {}
    },
    {
      "id": "0ee1ad1c",
      "cell_type": "code",
      "source": "fruits.append('mleon')\nfruits",
      "metadata": {},
      "outputs": [
        {
          "data": {
            "text/plain": [
              "['apple', 'banana', 'cherry', 'mleon']"
            ]
          },
          "execution_count": 23,
          "metadata": {},
          "output_type": "execute_result"
        }
      ],
      "execution_count": 23
    },
    {
      "id": "414bec99",
      "cell_type": "markdown",
      "source": "Or we can replace an element in the list (for example when we have added a typo...):",
      "metadata": {}
    },
    {
      "id": "e028139e",
      "cell_type": "code",
      "source": "fruits [3] = 'melon'\nfruits",
      "metadata": {},
      "outputs": [
        {
          "data": {
            "text/plain": [
              "['apple', 'banana', 'cherry', 'melon']"
            ]
          },
          "execution_count": 24,
          "metadata": {},
          "output_type": "execute_result"
        }
      ],
      "execution_count": 24
    },
    {
      "id": "fc5eb24d",
      "cell_type": "markdown",
      "source": "### Dictionaries",
      "metadata": {}
    },
    {
      "id": "0a00e7e3",
      "cell_type": "markdown",
      "source": "**A dictionary stores key-value pairs, allowing fast retrieval based on unique keys.**",
      "metadata": {}
    },
    {
      "id": "f2e7afdb",
      "cell_type": "markdown",
      "source": "Dictionaries (short dicts) are very powerful, especially in bioinformatics. Think of pairs of primer names and sequences! So, remember dicts! They are your friends. These are very powerful for linking information, like gene IDs to their functions.",
      "metadata": {}
    },
    {
      "id": "d5ac80c4",
      "cell_type": "code",
      "source": "primer_order = {'primer_1':'AATGC', 'primer_2':'CGTAGCT', 'primer_3':'cgtcagt'}\nprimer_order['primer_2']",
      "metadata": {},
      "outputs": [
        {
          "data": {
            "text/plain": [
              "'CGTAGCT'"
            ]
          },
          "execution_count": 25,
          "metadata": {},
          "output_type": "execute_result"
        }
      ],
      "execution_count": 25
    },
    {
      "id": "cf1cb888",
      "cell_type": "markdown",
      "source": "By the way, did you see that the sequence in `primer_3` is lowercase? we can fix that, if we want",
      "metadata": {}
    },
    {
      "id": "c5745e0b",
      "cell_type": "code",
      "source": "primer_order['primer_3'].upper()",
      "metadata": {},
      "outputs": [
        {
          "data": {
            "text/plain": [
              "'CGTCAGT'"
            ]
          },
          "execution_count": 26,
          "metadata": {},
          "output_type": "execute_result"
        }
      ],
      "execution_count": 26
    },
    {
      "id": "cff4cd18",
      "cell_type": "markdown",
      "source": "... and write the data back to the dict",
      "metadata": {}
    },
    {
      "id": "a4cece66",
      "cell_type": "code",
      "source": "primer_order['primer_3'] = primer_order['primer_3'].upper()\nprimer_order",
      "metadata": {},
      "outputs": [
        {
          "data": {
            "text/plain": [
              "{'primer_1': 'AATGC', 'primer_2': 'CGTAGCT', 'primer_3': 'CGTCAGT'}"
            ]
          },
          "execution_count": 27,
          "metadata": {},
          "output_type": "execute_result"
        }
      ],
      "execution_count": 27
    },
    {
      "id": "04090fbb",
      "cell_type": "markdown",
      "source": "You can always return all keys and values as lists:",
      "metadata": {}
    },
    {
      "id": "9acc7b31",
      "cell_type": "code",
      "source": "list(primer_order.keys())",
      "metadata": {},
      "outputs": [
        {
          "data": {
            "text/plain": [
              "['primer_1', 'primer_2', 'primer_3']"
            ]
          },
          "execution_count": 28,
          "metadata": {},
          "output_type": "execute_result"
        }
      ],
      "execution_count": 28
    },
    {
      "id": "b5c4147c",
      "cell_type": "code",
      "source": "list(primer_order.values())",
      "metadata": {},
      "outputs": [
        {
          "data": {
            "text/plain": [
              "['AATGC', 'CGTAGCT', 'CGTCAGT']"
            ]
          },
          "execution_count": 29,
          "metadata": {},
          "output_type": "execute_result"
        }
      ],
      "execution_count": 29
    },
    {
      "id": "1a32d403",
      "cell_type": "markdown",
      "source": "<div class=\"alert alert-block alert-success\"> <b>Now it's your turn!</b> <br>\n<b>Exercise 1:</b>\nPerform the following actions: <br>\n1. Create a dictionary with cute zoo animals and their names: <br><br>\n    a \"Lion\" named \"Leo\",<br>\n    a \"Tiger\" named \"Tobias\",<br>\n    an \"Elephant\" named \"Ella\",<br>\n    a \"Giraffe\" named \"Gabriella\",<br>\n    a \"Zebra\" named \"Zelda\"<br>\n    a \"Tiger\" named \"Ted\" <br> <br>\n2. from the dictionary, create a <b>non-redundant list</b> with all zoo animals <br>\n3. from the dictionary, create a list of all zoo animal's names, sorted alphabetically (use the <code>sorted(your_list)</code> command!) <br> <br>\n\n<i>Hint: Be careful how you construct your dict! Python can only handle unique keys! Values can be non-unique...</i>\n\n\n</div>",
      "metadata": {}
    },
    {
      "id": "9bd94fc3",
      "cell_type": "code",
      "source": "# Your solution goes here\n\n\n\n\n\n\n\n\n\n\n\n\n\n\n\n\n\n\n",
      "metadata": {},
      "outputs": [],
      "execution_count": 30
    },
    {
      "id": "c1eb8ba6",
      "cell_type": "code",
      "source": "# A possible solution: CLICK to unfold\n'''\nconstruct the dict using the animals' names as keys. They are unique anyways. If we do it the other way round, the duplicate key \"Tiger\" will be overwritten and we'll \nmiss Tobias :-( Try it out! \nbtw, this is a comment block!\n'''\n\nzoo_animals = {\n    \"Leo\": \"Lion\",\n    \"Tobias\": \"Tiger\",\n    \"Ella\": \"Elephant\",\n    \"Gabriella\": \"Giraffe\",\n    \"Zelda\": \"Zebra\",\n    \"Ted\" : \"Tiger\" \n}\n\nall_animals = list(set(zoo_animals.values()))\nprint(all_animals)\n\nall_names_sorted = sorted(list(zoo_animals.keys()))\nprint(all_names_sorted)",
      "metadata": {},
      "outputs": [
        {
          "name": "stdout",
          "output_type": "stream",
          "text": "['Elephant', 'Tiger', 'Giraffe', 'Lion', 'Zebra']\n,['Ella', 'Gabriella', 'Leo', 'Ted', 'Tobias', 'Zelda']\n"
        }
      ],
      "execution_count": 31
    },
    {
      "id": "2a8a5e43",
      "cell_type": "markdown",
      "source": "### Tuples & Sets\nJust for the sake of introducing all types, will be skipped today...\n",
      "metadata": {}
    },
    {
      "id": "7c2ef46a",
      "cell_type": "markdown",
      "source": "**A tuple is an ordered, immutable collection of items.**",
      "metadata": {}
    },
    {
      "id": "ce088272",
      "cell_type": "code",
      "source": "coordinates = (10, 20)\nprint(coordinates[1]) ",
      "metadata": {
        "slideshow": {
          "slide_type": "slide"
        }
      },
      "outputs": [
        {
          "name": "stdout",
          "output_type": "stream",
          "text": "20\n"
        }
      ],
      "execution_count": 32
    },
    {
      "id": "01e7919b",
      "cell_type": "code",
      "source": "# tuples are immutable \n#coordinates[0] = 15  ",
      "metadata": {},
      "outputs": [],
      "execution_count": 33
    },
    {
      "id": "51265a66",
      "cell_type": "markdown",
      "source": "**A set is an unordered collection of unique items.**",
      "metadata": {}
    },
    {
      "id": "37ff78b0",
      "cell_type": "code",
      "source": "unique_numbers = {1, 2, 3, 2, 1}",
      "metadata": {},
      "outputs": [],
      "execution_count": 61
    },
    {
      "id": "0be4e12d",
      "cell_type": "code",
      "source": "# Sets automatically remove duplicates:\nunique_numbers",
      "metadata": {},
      "outputs": [
        {
          "data": {
            "text/plain": [
              "{1, 2, 3}"
            ]
          },
          "execution_count": 62,
          "metadata": {},
          "output_type": "execute_result"
        }
      ],
      "execution_count": 62
    },
    {
      "id": "79014c80",
      "cell_type": "markdown",
      "source": "## 3. Pandas Dataframes\n\nPandas is a versatile library for data manipulation and analysis. It introduces two primary data structures: Series (1-dimensional) and DataFrame (2-dimensional), which are perfect for handling tabular data commonly found in bioinformatics. \n\nHere we want to explore the basics of dataframes with a example similar to count data from a transcriptomics experiment. In this dataframe we have genes, their respective chromosome and the expression level of these genes in our sample.",
      "metadata": {}
    },
    {
      "id": "22352f3f",
      "cell_type": "code",
      "source": "# Creating a DataFrame from a dictionary\ngene_data = {\n    'Gene': ['BRCA1', 'GLDP1', 'EGFR', 'MYC', 'APOE'],\n    'Chromosome': ['17', '17', '7', '8', '19'],\n    'Expression_Level': [50, 75, 65, 80, 45]\n    \n}\n\ndf = pd.DataFrame(gene_data)",
      "metadata": {},
      "outputs": [],
      "execution_count": 41
    },
    {
      "id": "dc8f5fb7",
      "cell_type": "markdown",
      "source": "Now we can have a look in a viewable version of this dataframe:",
      "metadata": {}
    },
    {
      "id": "2e1b9710",
      "cell_type": "code",
      "source": "df",
      "metadata": {},
      "outputs": [
        {
          "data": {
            "text/html": [
              "<div>\n",
              "<style scoped>\n",
              "    .dataframe tbody tr th:only-of-type {\n",
              "        vertical-align: middle;\n",
              "    }\n",
              "\n",
              "    .dataframe tbody tr th {\n",
              "        vertical-align: top;\n",
              "    }\n",
              "\n",
              "    .dataframe thead th {\n",
              "        text-align: right;\n",
              "    }\n",
              "</style>\n",
              "<table border=\"1\" class=\"dataframe\">\n",
              "  <thead>\n",
              "    <tr style=\"text-align: right;\">\n",
              "      <th></th>\n",
              "      <th>Gene</th>\n",
              "      <th>Chromosome</th>\n",
              "      <th>Expression_Level</th>\n",
              "    </tr>\n",
              "  </thead>\n",
              "  <tbody>\n",
              "    <tr>\n",
              "      <th>0</th>\n",
              "      <td>BRCA1</td>\n",
              "      <td>17</td>\n",
              "      <td>50</td>\n",
              "    </tr>\n",
              "    <tr>\n",
              "      <th>1</th>\n",
              "      <td>GLDP1</td>\n",
              "      <td>17</td>\n",
              "      <td>75</td>\n",
              "    </tr>\n",
              "    <tr>\n",
              "      <th>2</th>\n",
              "      <td>EGFR</td>\n",
              "      <td>7</td>\n",
              "      <td>65</td>\n",
              "    </tr>\n",
              "    <tr>\n",
              "      <th>3</th>\n",
              "      <td>MYC</td>\n",
              "      <td>8</td>\n",
              "      <td>80</td>\n",
              "    </tr>\n",
              "    <tr>\n",
              "      <th>4</th>\n",
              "      <td>APOE</td>\n",
              "      <td>19</td>\n",
              "      <td>45</td>\n",
              "    </tr>\n",
              "  </tbody>\n",
              "</table>\n",
              "</div>"
            ],
            "text/plain": [
              "    Gene Chromosome  Expression_Level\n",
              "0  BRCA1         17                50\n",
              "1  GLDP1         17                75\n",
              "2   EGFR          7                65\n",
              "3    MYC          8                80\n",
              "4   APOE         19                45"
            ]
          },
          "execution_count": 42,
          "metadata": {},
          "output_type": "execute_result"
        }
      ],
      "execution_count": 42
    },
    {
      "id": "18124c13",
      "cell_type": "markdown",
      "source": "We can now select data based on rows or columns:",
      "metadata": {}
    },
    {
      "id": "762fe540",
      "cell_type": "code",
      "source": "df[df['Chromosome'] == '17']",
      "metadata": {},
      "outputs": [
        {
          "data": {
            "text/html": [
              "<div>\n",
              "<style scoped>\n",
              "    .dataframe tbody tr th:only-of-type {\n",
              "        vertical-align: middle;\n",
              "    }\n",
              "\n",
              "    .dataframe tbody tr th {\n",
              "        vertical-align: top;\n",
              "    }\n",
              "\n",
              "    .dataframe thead th {\n",
              "        text-align: right;\n",
              "    }\n",
              "</style>\n",
              "<table border=\"1\" class=\"dataframe\">\n",
              "  <thead>\n",
              "    <tr style=\"text-align: right;\">\n",
              "      <th></th>\n",
              "      <th>Gene</th>\n",
              "      <th>Chromosome</th>\n",
              "      <th>Expression_Level</th>\n",
              "    </tr>\n",
              "  </thead>\n",
              "  <tbody>\n",
              "    <tr>\n",
              "      <th>0</th>\n",
              "      <td>BRCA1</td>\n",
              "      <td>17</td>\n",
              "      <td>50</td>\n",
              "    </tr>\n",
              "    <tr>\n",
              "      <th>1</th>\n",
              "      <td>GLDP1</td>\n",
              "      <td>17</td>\n",
              "      <td>75</td>\n",
              "    </tr>\n",
              "  </tbody>\n",
              "</table>\n",
              "</div>"
            ],
            "text/plain": [
              "    Gene Chromosome  Expression_Level\n",
              "0  BRCA1         17                50\n",
              "1  GLDP1         17                75"
            ]
          },
          "execution_count": 43,
          "metadata": {},
          "output_type": "execute_result"
        }
      ],
      "execution_count": 43
    },
    {
      "id": "103f9e49",
      "cell_type": "code",
      "source": "df[df['Expression_Level'] < 50]",
      "metadata": {},
      "outputs": [
        {
          "data": {
            "text/html": [
              "<div>\n",
              "<style scoped>\n",
              "    .dataframe tbody tr th:only-of-type {\n",
              "        vertical-align: middle;\n",
              "    }\n",
              "\n",
              "    .dataframe tbody tr th {\n",
              "        vertical-align: top;\n",
              "    }\n",
              "\n",
              "    .dataframe thead th {\n",
              "        text-align: right;\n",
              "    }\n",
              "</style>\n",
              "<table border=\"1\" class=\"dataframe\">\n",
              "  <thead>\n",
              "    <tr style=\"text-align: right;\">\n",
              "      <th></th>\n",
              "      <th>Gene</th>\n",
              "      <th>Chromosome</th>\n",
              "      <th>Expression_Level</th>\n",
              "    </tr>\n",
              "  </thead>\n",
              "  <tbody>\n",
              "    <tr>\n",
              "      <th>4</th>\n",
              "      <td>APOE</td>\n",
              "      <td>19</td>\n",
              "      <td>45</td>\n",
              "    </tr>\n",
              "  </tbody>\n",
              "</table>\n",
              "</div>"
            ],
            "text/plain": [
              "   Gene Chromosome  Expression_Level\n",
              "4  APOE         19                45"
            ]
          },
          "execution_count": 44,
          "metadata": {},
          "output_type": "execute_result"
        }
      ],
      "execution_count": 44
    },
    {
      "id": "b37f52eb",
      "cell_type": "markdown",
      "source": "<div class=\"alert alert-block alert-success\"> <b>Now it's your turn!</b> <br>\n<b>Exercise 2:</b>\n\n1. Find all genes with an expression level over 70.\n2. Get all information for the gene BRCA1 from the dataframe.\n\n</div>",
      "metadata": {}
    },
    {
      "id": "e1b5f189",
      "cell_type": "code",
      "source": "# Your solution goes here\n\n\n\n\n\n\n\n\n\n\n",
      "metadata": {},
      "outputs": [],
      "execution_count": 45
    },
    {
      "id": "028651c4",
      "cell_type": "code",
      "source": "# A possible solution: CLICK to unfold\n\n# 1. Genes with expression level over 70\nx = df[df['Expression_Level'] > 70]\nprint(x)\n\n# 2. All Information for gene BRCA1\ny = df[df['Gene'] == 'BRCA1']\nprint(y)",
      "metadata": {},
      "outputs": [
        {
          "name": "stdout",
          "output_type": "stream",
          "text": "    Gene Chromosome  Expression_Level\n,1  GLDP1         17                75\n,3    MYC          8                80\n,    Gene Chromosome  Expression_Level\n,0  BRCA1         17                50\n"
        }
      ],
      "execution_count": 46
    },
    {
      "id": "92b5eeaa",
      "cell_type": "markdown",
      "source": "We can also access a single row or column of our dataframe.",
      "metadata": {}
    },
    {
      "id": "0dfe593c",
      "cell_type": "code",
      "source": "#accessing a row (is returned as Series object)\ndf.loc[0]",
      "metadata": {},
      "outputs": [
        {
          "data": {
            "text/plain": [
              "Gene                BRCA1\n",
              "Chromosome             17\n",
              "Expression_Level       50\n",
              "Name: 0, dtype: object"
            ]
          },
          "execution_count": 47,
          "metadata": {},
          "output_type": "execute_result"
        }
      ],
      "execution_count": 47
    },
    {
      "id": "fefddea2",
      "cell_type": "code",
      "source": "#accessing multiple rows (is returned as a dataframe)\ndf.loc[[0,1]]",
      "metadata": {},
      "outputs": [
        {
          "data": {
            "text/html": [
              "<div>\n",
              "<style scoped>\n",
              "    .dataframe tbody tr th:only-of-type {\n",
              "        vertical-align: middle;\n",
              "    }\n",
              "\n",
              "    .dataframe tbody tr th {\n",
              "        vertical-align: top;\n",
              "    }\n",
              "\n",
              "    .dataframe thead th {\n",
              "        text-align: right;\n",
              "    }\n",
              "</style>\n",
              "<table border=\"1\" class=\"dataframe\">\n",
              "  <thead>\n",
              "    <tr style=\"text-align: right;\">\n",
              "      <th></th>\n",
              "      <th>Gene</th>\n",
              "      <th>Chromosome</th>\n",
              "      <th>Expression_Level</th>\n",
              "    </tr>\n",
              "  </thead>\n",
              "  <tbody>\n",
              "    <tr>\n",
              "      <th>0</th>\n",
              "      <td>BRCA1</td>\n",
              "      <td>17</td>\n",
              "      <td>50</td>\n",
              "    </tr>\n",
              "    <tr>\n",
              "      <th>1</th>\n",
              "      <td>GLDP1</td>\n",
              "      <td>17</td>\n",
              "      <td>75</td>\n",
              "    </tr>\n",
              "  </tbody>\n",
              "</table>\n",
              "</div>"
            ],
            "text/plain": [
              "    Gene Chromosome  Expression_Level\n",
              "0  BRCA1         17                50\n",
              "1  GLDP1         17                75"
            ]
          },
          "execution_count": 48,
          "metadata": {},
          "output_type": "execute_result"
        }
      ],
      "execution_count": 48
    },
    {
      "id": "766e1643",
      "cell_type": "code",
      "source": "#accessing a single field by row and column\ndf.loc[0, 'Gene']\n",
      "metadata": {},
      "outputs": [
        {
          "data": {
            "text/plain": [
              "'BRCA1'"
            ]
          },
          "execution_count": 49,
          "metadata": {},
          "output_type": "execute_result"
        }
      ],
      "execution_count": 49
    },
    {
      "id": "7b9b5b6e",
      "cell_type": "markdown",
      "source": "## 4. Importing your own data files\n\nPandas also allows us to read in our own data from a **csv** or **excel** file as dataframes!",
      "metadata": {}
    },
    {
      "id": "c8d496f0-99eb-48ab-a85f-52186a5b83cd",
      "cell_type": "markdown",
      "source": "### The Scientific Question & Our Data",
      "metadata": {}
    },
    {
      "id": "0b93c868-20c0-4fef-ae13-7d0b1e0497e3",
      "cell_type": "markdown",
      "source": "Our data comes from a real study on how plants respond to high ambient temperature. Our goal is to investigate the role of the **ELONGATED HYPOCOTYL 5 (HY5)** transcription factor in this process by comparing two plant genotypes at 28°C:\n- **Wild-type (*Arabidopsis thaliana* Col-0)**\n- **The *hy5* mutant** (a plant with a non-functional HY5 gene)\n\nWe will determine which genes are up- or down-regulated in the *hy5* mutant compared to the wild-type.",
      "metadata": {}
    },
    {
      "id": "ba996ede",
      "cell_type": "code",
      "source": "# reading in your raw count data\nimport pandas as pd\n\ncounts = pd.read_csv('gene_counts.txt')\n\nprint(counts)",
      "metadata": {},
      "outputs": [
        {
          "name": "stdout",
          "output_type": "stream",
          "text": "      # Program:featureCounts v2.0.6; Command:\"/mnt/bin/subread/subread-v2.0.6/bin/featureCounts\" \"-T\" \"8\" \"-t\" \"gene\" \"-g\" \"ID\" \"-a\" \"Arabidopsis_thaliana.TAIR10.61.gff3\" \"-o\" \"gene_counts.txt\" \"aligned_bams/col0.root.28C.rep1_Aligned.sortedByCoord.out.bam\" \"aligned_bams/col0.root.28C.rep2_Aligned.sortedByCoord.out.bam\" \"aligned_bams/col0.root.28C.rep3_Aligned.sortedByCoord.out.bam\" \"aligned_bams/hy5.root.28C.rep1_Aligned.sortedByCoord.out.bam\" \"aligned_bams/hy5.root.28C.rep2_Aligned.sortedByCoord.out.bam\" \"aligned_bams/hy5.root.28C.rep3_Aligned.sortedByCoord.out.bam\" \n,0      Geneid\\tChr\\tStart\\tEnd\\tStrand\\tLength\\talign...                                                                                                                                                                                                                                                                                                                                                                                                                                                                                                                                        \n,1      gene:AT1G01010\\t1\\t3631\\t5899\\t+\\t2269\\t290\\t2...                                                                                                                                                                                                                                                                                                                                                                                                                                                                                                                                        \n,2      gene:AT1G01020\\t1\\t6788\\t9130\\t-\\t2343\\t171\\t1...                                                                                                                                                                                                                                                                                                                                                                                                                                                                                                                                        \n,3      gene:AT1G01030\\t1\\t11649\\t13714\\t-\\t2066\\t35\\t...                                                                                                                                                                                                                                                                                                                                                                                                                                                                                                                                        \n,4      gene:AT1G01040\\t1\\t23121\\t31227\\t+\\t8107\\t744\\...                                                                                                                                                                                                                                                                                                                                                                                                                                                                                                                                        \n,...                                                  ...                                                                                                                                                                                                                                                                                                                                                                                                                                                                                                                                        \n,27651  gene:ATCG01250\\tPt\\t141854\\t143708\\t+\\t1855\\t0...                                                                                                                                                                                                                                                                                                                                                                                                                                                                                                                                        \n,27652  gene:ATCG01270\\tPt\\t144921\\t145154\\t-\\t234\\t0\\...                                                                                                                                                                                                                                                                                                                                                                                                                                                                                                                                        \n,27653  gene:ATCG01280\\tPt\\t145291\\t152175\\t-\\t6885\\t0...                                                                                                                                                                                                                                                                                                                                                                                                                                                                                                                                        \n,27654  gene:ATCG01300\\tPt\\t152506\\t152787\\t+\\t282\\t0\\...                                                                                                                                                                                                                                                                                                                                                                                                                                                                                                                                        \n,27655  gene:ATCG01310\\tPt\\t152806\\t154312\\t+\\t1507\\t0...                                                                                                                                                                                                                                                                                                                                                                                                                                                                                                                                        \n,\n,[27656 rows x 1 columns]\n"
        }
      ],
      "execution_count": 65
    },
    {
      "id": "b838329f",
      "cell_type": "markdown",
      "source": "This does not look right.. Any idea what is wrong?",
      "metadata": {}
    },
    {
      "id": "47edf8fd",
      "cell_type": "markdown",
      "source": "Our data is separated by **tabs** (`\\t`) instead of commas (as pandas expects as standard delimiter for a **comma-separated file**). If you go to the documentation page of pandas for the `read_csv()`-function (https://pandas.pydata.org/docs/reference/api/pandas.read_csv.html), can you find an option which might help here?",
      "metadata": {}
    },
    {
      "id": "3a6b32a8",
      "cell_type": "markdown",
      "source": "Using the option `delimiter`, we can tell the function, which type of delimiter is used in our file.",
      "metadata": {}
    },
    {
      "id": "9e77031d",
      "cell_type": "code",
      "source": "counts = pd.read_csv('gene_counts.txt', delimiter='\\t')\n\nprint(counts)",
      "metadata": {},
      "outputs": [
        {
          "name": "stdout",
          "output_type": "stream",
          "text": "                                                                                                                                                                                                                                                                                                              # Program:featureCounts v2.0.6; Command:\"/mnt/bin/subread/subread-v2.0.6/bin/featureCounts\" \"-T\" \"8\" \"-t\" \"gene\" \"-g\" \"ID\" \"-a\" \"Arabidopsis_thaliana.TAIR10.61.gff3\" \"-o\" \"gene_counts.txt\" \"aligned_bams/col0.root.28C.rep1_Aligned.sortedByCoord.out.bam\" \"aligned_bams/col0.root.28C.rep2_Aligned.sortedByCoord.out.bam\" \"aligned_bams/col0.root.28C.rep3_Aligned.sortedByCoord.out.bam\" \"aligned_bams/hy5.root.28C.rep1_Aligned.sortedByCoord.out.bam\" \"aligned_bams/hy5.root.28C.rep2_Aligned.sortedByCoord.out.bam\" \"aligned_bams/hy5.root.28C.rep3_Aligned.sortedByCoord.out.bam\" \n,Geneid         Chr Start  End    Strand Length aligned_bams/col0.root.28C.rep1_Aligned.sortedB... aligned_bams/col0.root.28C.rep2_Aligned.sortedB... aligned_bams/col0.root.28C.rep3_Aligned.sortedB... aligned_bams/hy5.root.28C.rep1_Aligned.sortedBy... aligned_bams/hy5.root.28C.rep2_Aligned.sortedBy...  aligned_bams/hy5.root.28C.rep3_Aligned.sortedB...                                                                                                                                                                                                                                                                                                                                                                                                                                                                                                                                        \n,gene:AT1G01010 1   3631   5899   +      2269   290                                                265                                                272                                                380                                                433                                                                                               350                                                                                                                                                                                                                                                                                                                                                                                                                                                                                                                                        \n,gene:AT1G01020 1   6788   9130   -      2343   171                                                177                                                193                                                344                                                301                                                                                               294                                                                                                                                                                                                                                                                                                                                                                                                                                                                                                                                        \n,gene:AT1G01030 1   11649  13714  -      2066   35                                                 57                                                 58                                                 60                                                 58                                                                                                 57                                                                                                                                                                                                                                                                                                                                                                                                                                                                                                                                        \n,gene:AT1G01040 1   23121  31227  +      8107   744                                                739                                                803                                                880                                                884                                                                                               802                                                                                                                                                                                                                                                                                                                                                                                                                                                                                                                                        \n,...                                                                                                                                                                                                                                                                                                                                                          ...                                                                                                                                                                                                                                                                                                                                                                                                                                                                                                                                        \n,gene:ATCG01250 Pt  141854 143708 +      1855   0                                                  0                                                  0                                                  0                                                  0                                                                                                   0                                                                                                                                                                                                                                                                                                                                                                                                                                                                                                                                        \n,gene:ATCG01270 Pt  144921 145154 -      234    0                                                  0                                                  0                                                  0                                                  0                                                                                                   0                                                                                                                                                                                                                                                                                                                                                                                                                                                                                                                                        \n,gene:ATCG01280 Pt  145291 152175 -      6885   0                                                  0                                                  0                                                  0                                                  0                                                                                                   0                                                                                                                                                                                                                                                                                                                                                                                                                                                                                                                                        \n,gene:ATCG01300 Pt  152506 152787 +      282    0                                                  0                                                  0                                                  0                                                  0                                                                                                   0                                                                                                                                                                                                                                                                                                                                                                                                                                                                                                                                        \n,gene:ATCG01310 Pt  152806 154312 +      1507   0                                                  0                                                  0                                                  0                                                  0                                                                                                   0                                                                                                                                                                                                                                                                                                                                                                                                                                                                                                                                        \n,\n,[27656 rows x 1 columns]\n"
        }
      ],
      "execution_count": 66
    },
    {
      "id": "109379ff",
      "cell_type": "markdown",
      "source": "Now we have the correct delimiter. There is still another problem with the data. Can you spot it?",
      "metadata": {}
    },
    {
      "id": "f5bac2cd",
      "cell_type": "markdown",
      "source": "Our data does have a header row. We can tell `read_csv()` that our data has a header in a certain row using the number of this row. If our data does not have a header, we can use `header=None`.",
      "metadata": {}
    },
    {
      "id": "bcb0c2b6",
      "cell_type": "code",
      "source": "counts = pd.read_csv('gene_counts.txt', delimiter='\\t', header=1)\n\nprint(counts)",
      "metadata": {},
      "outputs": [
        {
          "name": "stdout",
          "output_type": "stream",
          "text": "               Geneid Chr   Start     End Strand  Length  \\\n,0      gene:AT1G01010   1    3631    5899      +    2269   \n,1      gene:AT1G01020   1    6788    9130      -    2343   \n,2      gene:AT1G01030   1   11649   13714      -    2066   \n,3      gene:AT1G01040   1   23121   31227      +    8107   \n,4      gene:AT1G01050   1   31170   33171      -    2002   \n,...               ...  ..     ...     ...    ...     ...   \n,27650  gene:ATCG01250  Pt  141854  143708      +    1855   \n,27651  gene:ATCG01270  Pt  144921  145154      -     234   \n,27652  gene:ATCG01280  Pt  145291  152175      -    6885   \n,27653  gene:ATCG01300  Pt  152506  152787      +     282   \n,27654  gene:ATCG01310  Pt  152806  154312      +    1507   \n,\n,       aligned_bams/col0.root.28C.rep1_Aligned.sortedByCoord.out.bam  \\\n,0                                                    290               \n,1                                                    171               \n,2                                                     35               \n,3                                                    744               \n,4                                                   1544               \n,...                                                  ...               \n,27650                                                  0               \n,27651                                                  0               \n,27652                                                  0               \n,27653                                                  0               \n,27654                                                  0               \n,\n,       aligned_bams/col0.root.28C.rep2_Aligned.sortedByCoord.out.bam  \\\n,0                                                    265               \n,1                                                    177               \n,2                                                     57               \n,3                                                    739               \n,4                                                   1328               \n,...                                                  ...               \n,27650                                                  0               \n,27651                                                  0               \n,27652                                                  0               \n,27653                                                  0               \n,27654                                                  0               \n,\n,       aligned_bams/col0.root.28C.rep3_Aligned.sortedByCoord.out.bam  \\\n,0                                                    272               \n,1                                                    193               \n,2                                                     58               \n,3                                                    803               \n,4                                                   1502               \n,...                                                  ...               \n,27650                                                  0               \n,27651                                                  0               \n,27652                                                  0               \n,27653                                                  0               \n,27654                                                  0               \n,\n,       aligned_bams/hy5.root.28C.rep1_Aligned.sortedByCoord.out.bam  \\\n,0                                                    380              \n,1                                                    344              \n,2                                                     60              \n,3                                                    880              \n,4                                                   1697              \n,...                                                  ...              \n,27650                                                  0              \n,27651                                                  0              \n,27652                                                  0              \n,27653                                                  0              \n,27654                                                  0              \n,\n,       aligned_bams/hy5.root.28C.rep2_Aligned.sortedByCoord.out.bam  \\\n,0                                                    433              \n,1                                                    301              \n,2                                                     58              \n,3                                                    884              \n,4                                                   1870              \n,...                                                  ...              \n,27650                                                  0              \n,27651                                                  0              \n,27652                                                  0              \n,27653                                                  0              \n,27654                                                  0              \n,\n,       aligned_bams/hy5.root.28C.rep3_Aligned.sortedByCoord.out.bam  \n,0                                                    350             \n,1                                                    294             \n,2                                                     57             \n,3                                                    802             \n,4                                                   1626             \n,...                                                  ...             \n,27650                                                  0             \n,27651                                                  0             \n,27652                                                  0             \n,27653                                                  0             \n,27654                                                  0             \n,\n,[27655 rows x 12 columns]\n"
        }
      ],
      "execution_count": 67
    },
    {
      "id": "cd1fa5ef",
      "cell_type": "markdown",
      "source": "As we can see the column names are not ideal, as they are very long. First we can get a list of column names using the following command: ",
      "metadata": {}
    },
    {
      "id": "64949e2b",
      "cell_type": "code",
      "source": "counts.columns",
      "metadata": {},
      "outputs": [
        {
          "data": {
            "text/plain": [
              "Index(['Geneid', 'Chr', 'Start', 'End', 'Strand', 'Length',\n",
              "       'aligned_bams/col0.root.28C.rep1_Aligned.sortedByCoord.out.bam',\n",
              "       'aligned_bams/col0.root.28C.rep2_Aligned.sortedByCoord.out.bam',\n",
              "       'aligned_bams/col0.root.28C.rep3_Aligned.sortedByCoord.out.bam',\n",
              "       'aligned_bams/hy5.root.28C.rep1_Aligned.sortedByCoord.out.bam',\n",
              "       'aligned_bams/hy5.root.28C.rep2_Aligned.sortedByCoord.out.bam',\n",
              "       'aligned_bams/hy5.root.28C.rep3_Aligned.sortedByCoord.out.bam'],\n",
              "      dtype='object')"
            ]
          },
          "execution_count": 68,
          "metadata": {},
          "output_type": "execute_result"
        }
      ],
      "execution_count": 68
    },
    {
      "id": "3fe2c666",
      "cell_type": "markdown",
      "source": "We can replace the column names using a new list. Beware to use the correct order, as to not confuse your samples!",
      "metadata": {}
    },
    {
      "id": "72739816",
      "cell_type": "code",
      "source": "counts.columns =  ['Geneid', 'Chr', 'Start', 'End', 'Strand', 'Length',\n       'col0.root.28C.rep1',\n       'col0.root.28C.rep2',\n       'col0.root.28C.rep3',\n       'hy5.root.28C.rep1',\n       'hy5.root.28C.rep2',\n       'hy5.root.28C.rep3']",
      "metadata": {},
      "outputs": [],
      "execution_count": 69
    },
    {
      "id": "0d7fbf9b",
      "cell_type": "code",
      "source": "counts.columns",
      "metadata": {},
      "outputs": [
        {
          "data": {
            "text/plain": [
              "Index(['Geneid', 'Chr', 'Start', 'End', 'Strand', 'Length',\n",
              "       'col0.root.28C.rep1', 'col0.root.28C.rep2', 'col0.root.28C.rep3',\n",
              "       'hy5.root.28C.rep1', 'hy5.root.28C.rep2', 'hy5.root.28C.rep3'],\n",
              "      dtype='object')"
            ]
          },
          "execution_count": 55,
          "metadata": {},
          "output_type": "execute_result"
        }
      ],
      "execution_count": 55
    },
    {
      "id": "abe0aabe",
      "cell_type": "markdown",
      "source": "We can also set the index of the data frame to the `Geneid` column, since this will be the same in all the count data. This also allows us to access rows by gene name instead of using the row number.\n\nBut first we remove the \"gene:\" from this column, as it makes things unneccesarily complicated. ",
      "metadata": {}
    },
    {
      "id": "8c0321f2",
      "cell_type": "code",
      "source": "counts['Geneid'] = counts['Geneid'].str.replace('gene:', '')\ncounts",
      "metadata": {},
      "outputs": [
        {
          "data": {
            "text/html": [
              "<div>\n",
              "<style scoped>\n",
              "    .dataframe tbody tr th:only-of-type {\n",
              "        vertical-align: middle;\n",
              "    }\n",
              "\n",
              "    .dataframe tbody tr th {\n",
              "        vertical-align: top;\n",
              "    }\n",
              "\n",
              "    .dataframe thead th {\n",
              "        text-align: right;\n",
              "    }\n",
              "</style>\n",
              "<table border=\"1\" class=\"dataframe\">\n",
              "  <thead>\n",
              "    <tr style=\"text-align: right;\">\n",
              "      <th></th>\n",
              "      <th>Geneid</th>\n",
              "      <th>Chr</th>\n",
              "      <th>Start</th>\n",
              "      <th>End</th>\n",
              "      <th>Strand</th>\n",
              "      <th>Length</th>\n",
              "      <th>col0.root.28C.rep1</th>\n",
              "      <th>col0.root.28C.rep2</th>\n",
              "      <th>col0.root.28C.rep3</th>\n",
              "      <th>hy5.root.28C.rep1</th>\n",
              "      <th>hy5.root.28C.rep2</th>\n",
              "      <th>hy5.root.28C.rep3</th>\n",
              "    </tr>\n",
              "  </thead>\n",
              "  <tbody>\n",
              "    <tr>\n",
              "      <th>0</th>\n",
              "      <td>AT1G01010</td>\n",
              "      <td>1</td>\n",
              "      <td>3631</td>\n",
              "      <td>5899</td>\n",
              "      <td>+</td>\n",
              "      <td>2269</td>\n",
              "      <td>290</td>\n",
              "      <td>265</td>\n",
              "      <td>272</td>\n",
              "      <td>380</td>\n",
              "      <td>433</td>\n",
              "      <td>350</td>\n",
              "    </tr>\n",
              "    <tr>\n",
              "      <th>1</th>\n",
              "      <td>AT1G01020</td>\n",
              "      <td>1</td>\n",
              "      <td>6788</td>\n",
              "      <td>9130</td>\n",
              "      <td>-</td>\n",
              "      <td>2343</td>\n",
              "      <td>171</td>\n",
              "      <td>177</td>\n",
              "      <td>193</td>\n",
              "      <td>344</td>\n",
              "      <td>301</td>\n",
              "      <td>294</td>\n",
              "    </tr>\n",
              "    <tr>\n",
              "      <th>2</th>\n",
              "      <td>AT1G01030</td>\n",
              "      <td>1</td>\n",
              "      <td>11649</td>\n",
              "      <td>13714</td>\n",
              "      <td>-</td>\n",
              "      <td>2066</td>\n",
              "      <td>35</td>\n",
              "      <td>57</td>\n",
              "      <td>58</td>\n",
              "      <td>60</td>\n",
              "      <td>58</td>\n",
              "      <td>57</td>\n",
              "    </tr>\n",
              "    <tr>\n",
              "      <th>3</th>\n",
              "      <td>AT1G01040</td>\n",
              "      <td>1</td>\n",
              "      <td>23121</td>\n",
              "      <td>31227</td>\n",
              "      <td>+</td>\n",
              "      <td>8107</td>\n",
              "      <td>744</td>\n",
              "      <td>739</td>\n",
              "      <td>803</td>\n",
              "      <td>880</td>\n",
              "      <td>884</td>\n",
              "      <td>802</td>\n",
              "    </tr>\n",
              "    <tr>\n",
              "      <th>4</th>\n",
              "      <td>AT1G01050</td>\n",
              "      <td>1</td>\n",
              "      <td>31170</td>\n",
              "      <td>33171</td>\n",
              "      <td>-</td>\n",
              "      <td>2002</td>\n",
              "      <td>1544</td>\n",
              "      <td>1328</td>\n",
              "      <td>1502</td>\n",
              "      <td>1697</td>\n",
              "      <td>1870</td>\n",
              "      <td>1626</td>\n",
              "    </tr>\n",
              "    <tr>\n",
              "      <th>...</th>\n",
              "      <td>...</td>\n",
              "      <td>...</td>\n",
              "      <td>...</td>\n",
              "      <td>...</td>\n",
              "      <td>...</td>\n",
              "      <td>...</td>\n",
              "      <td>...</td>\n",
              "      <td>...</td>\n",
              "      <td>...</td>\n",
              "      <td>...</td>\n",
              "      <td>...</td>\n",
              "      <td>...</td>\n",
              "    </tr>\n",
              "    <tr>\n",
              "      <th>27650</th>\n",
              "      <td>ATCG01250</td>\n",
              "      <td>Pt</td>\n",
              "      <td>141854</td>\n",
              "      <td>143708</td>\n",
              "      <td>+</td>\n",
              "      <td>1855</td>\n",
              "      <td>0</td>\n",
              "      <td>0</td>\n",
              "      <td>0</td>\n",
              "      <td>0</td>\n",
              "      <td>0</td>\n",
              "      <td>0</td>\n",
              "    </tr>\n",
              "    <tr>\n",
              "      <th>27651</th>\n",
              "      <td>ATCG01270</td>\n",
              "      <td>Pt</td>\n",
              "      <td>144921</td>\n",
              "      <td>145154</td>\n",
              "      <td>-</td>\n",
              "      <td>234</td>\n",
              "      <td>0</td>\n",
              "      <td>0</td>\n",
              "      <td>0</td>\n",
              "      <td>0</td>\n",
              "      <td>0</td>\n",
              "      <td>0</td>\n",
              "    </tr>\n",
              "    <tr>\n",
              "      <th>27652</th>\n",
              "      <td>ATCG01280</td>\n",
              "      <td>Pt</td>\n",
              "      <td>145291</td>\n",
              "      <td>152175</td>\n",
              "      <td>-</td>\n",
              "      <td>6885</td>\n",
              "      <td>0</td>\n",
              "      <td>0</td>\n",
              "      <td>0</td>\n",
              "      <td>0</td>\n",
              "      <td>0</td>\n",
              "      <td>0</td>\n",
              "    </tr>\n",
              "    <tr>\n",
              "      <th>27653</th>\n",
              "      <td>ATCG01300</td>\n",
              "      <td>Pt</td>\n",
              "      <td>152506</td>\n",
              "      <td>152787</td>\n",
              "      <td>+</td>\n",
              "      <td>282</td>\n",
              "      <td>0</td>\n",
              "      <td>0</td>\n",
              "      <td>0</td>\n",
              "      <td>0</td>\n",
              "      <td>0</td>\n",
              "      <td>0</td>\n",
              "    </tr>\n",
              "    <tr>\n",
              "      <th>27654</th>\n",
              "      <td>ATCG01310</td>\n",
              "      <td>Pt</td>\n",
              "      <td>152806</td>\n",
              "      <td>154312</td>\n",
              "      <td>+</td>\n",
              "      <td>1507</td>\n",
              "      <td>0</td>\n",
              "      <td>0</td>\n",
              "      <td>0</td>\n",
              "      <td>0</td>\n",
              "      <td>0</td>\n",
              "      <td>0</td>\n",
              "    </tr>\n",
              "  </tbody>\n",
              "</table>\n",
              "<p>27655 rows × 12 columns</p>\n",
              "</div>"
            ],
            "text/plain": [
              "          Geneid Chr   Start     End Strand  Length  col0.root.28C.rep1  \\\n",
              "0      AT1G01010   1    3631    5899      +    2269                 290   \n",
              "1      AT1G01020   1    6788    9130      -    2343                 171   \n",
              "2      AT1G01030   1   11649   13714      -    2066                  35   \n",
              "3      AT1G01040   1   23121   31227      +    8107                 744   \n",
              "4      AT1G01050   1   31170   33171      -    2002                1544   \n",
              "...          ...  ..     ...     ...    ...     ...                 ...   \n",
              "27650  ATCG01250  Pt  141854  143708      +    1855                   0   \n",
              "27651  ATCG01270  Pt  144921  145154      -     234                   0   \n",
              "27652  ATCG01280  Pt  145291  152175      -    6885                   0   \n",
              "27653  ATCG01300  Pt  152506  152787      +     282                   0   \n",
              "27654  ATCG01310  Pt  152806  154312      +    1507                   0   \n",
              "\n",
              "       col0.root.28C.rep2  col0.root.28C.rep3  hy5.root.28C.rep1  \\\n",
              "0                     265                 272                380   \n",
              "1                     177                 193                344   \n",
              "2                      57                  58                 60   \n",
              "3                     739                 803                880   \n",
              "4                    1328                1502               1697   \n",
              "...                   ...                 ...                ...   \n",
              "27650                   0                   0                  0   \n",
              "27651                   0                   0                  0   \n",
              "27652                   0                   0                  0   \n",
              "27653                   0                   0                  0   \n",
              "27654                   0                   0                  0   \n",
              "\n",
              "       hy5.root.28C.rep2  hy5.root.28C.rep3  \n",
              "0                    433                350  \n",
              "1                    301                294  \n",
              "2                     58                 57  \n",
              "3                    884                802  \n",
              "4                   1870               1626  \n",
              "...                  ...                ...  \n",
              "27650                  0                  0  \n",
              "27651                  0                  0  \n",
              "27652                  0                  0  \n",
              "27653                  0                  0  \n",
              "27654                  0                  0  \n",
              "\n",
              "[27655 rows x 12 columns]"
            ]
          },
          "execution_count": 70,
          "metadata": {},
          "output_type": "execute_result"
        }
      ],
      "execution_count": 70
    },
    {
      "id": "aae68d42",
      "cell_type": "code",
      "source": "counts = counts.set_index('Geneid')\ncounts",
      "metadata": {},
      "outputs": [
        {
          "data": {
            "text/html": [
              "<div>\n",
              "<style scoped>\n",
              "    .dataframe tbody tr th:only-of-type {\n",
              "        vertical-align: middle;\n",
              "    }\n",
              "\n",
              "    .dataframe tbody tr th {\n",
              "        vertical-align: top;\n",
              "    }\n",
              "\n",
              "    .dataframe thead th {\n",
              "        text-align: right;\n",
              "    }\n",
              "</style>\n",
              "<table border=\"1\" class=\"dataframe\">\n",
              "  <thead>\n",
              "    <tr style=\"text-align: right;\">\n",
              "      <th></th>\n",
              "      <th>Chr</th>\n",
              "      <th>Start</th>\n",
              "      <th>End</th>\n",
              "      <th>Strand</th>\n",
              "      <th>Length</th>\n",
              "      <th>col0.root.28C.rep1</th>\n",
              "      <th>col0.root.28C.rep2</th>\n",
              "      <th>col0.root.28C.rep3</th>\n",
              "      <th>hy5.root.28C.rep1</th>\n",
              "      <th>hy5.root.28C.rep2</th>\n",
              "      <th>hy5.root.28C.rep3</th>\n",
              "    </tr>\n",
              "    <tr>\n",
              "      <th>Geneid</th>\n",
              "      <th></th>\n",
              "      <th></th>\n",
              "      <th></th>\n",
              "      <th></th>\n",
              "      <th></th>\n",
              "      <th></th>\n",
              "      <th></th>\n",
              "      <th></th>\n",
              "      <th></th>\n",
              "      <th></th>\n",
              "      <th></th>\n",
              "    </tr>\n",
              "  </thead>\n",
              "  <tbody>\n",
              "    <tr>\n",
              "      <th>AT1G01010</th>\n",
              "      <td>1</td>\n",
              "      <td>3631</td>\n",
              "      <td>5899</td>\n",
              "      <td>+</td>\n",
              "      <td>2269</td>\n",
              "      <td>290</td>\n",
              "      <td>265</td>\n",
              "      <td>272</td>\n",
              "      <td>380</td>\n",
              "      <td>433</td>\n",
              "      <td>350</td>\n",
              "    </tr>\n",
              "    <tr>\n",
              "      <th>AT1G01020</th>\n",
              "      <td>1</td>\n",
              "      <td>6788</td>\n",
              "      <td>9130</td>\n",
              "      <td>-</td>\n",
              "      <td>2343</td>\n",
              "      <td>171</td>\n",
              "      <td>177</td>\n",
              "      <td>193</td>\n",
              "      <td>344</td>\n",
              "      <td>301</td>\n",
              "      <td>294</td>\n",
              "    </tr>\n",
              "    <tr>\n",
              "      <th>AT1G01030</th>\n",
              "      <td>1</td>\n",
              "      <td>11649</td>\n",
              "      <td>13714</td>\n",
              "      <td>-</td>\n",
              "      <td>2066</td>\n",
              "      <td>35</td>\n",
              "      <td>57</td>\n",
              "      <td>58</td>\n",
              "      <td>60</td>\n",
              "      <td>58</td>\n",
              "      <td>57</td>\n",
              "    </tr>\n",
              "    <tr>\n",
              "      <th>AT1G01040</th>\n",
              "      <td>1</td>\n",
              "      <td>23121</td>\n",
              "      <td>31227</td>\n",
              "      <td>+</td>\n",
              "      <td>8107</td>\n",
              "      <td>744</td>\n",
              "      <td>739</td>\n",
              "      <td>803</td>\n",
              "      <td>880</td>\n",
              "      <td>884</td>\n",
              "      <td>802</td>\n",
              "    </tr>\n",
              "    <tr>\n",
              "      <th>AT1G01050</th>\n",
              "      <td>1</td>\n",
              "      <td>31170</td>\n",
              "      <td>33171</td>\n",
              "      <td>-</td>\n",
              "      <td>2002</td>\n",
              "      <td>1544</td>\n",
              "      <td>1328</td>\n",
              "      <td>1502</td>\n",
              "      <td>1697</td>\n",
              "      <td>1870</td>\n",
              "      <td>1626</td>\n",
              "    </tr>\n",
              "    <tr>\n",
              "      <th>...</th>\n",
              "      <td>...</td>\n",
              "      <td>...</td>\n",
              "      <td>...</td>\n",
              "      <td>...</td>\n",
              "      <td>...</td>\n",
              "      <td>...</td>\n",
              "      <td>...</td>\n",
              "      <td>...</td>\n",
              "      <td>...</td>\n",
              "      <td>...</td>\n",
              "      <td>...</td>\n",
              "    </tr>\n",
              "    <tr>\n",
              "      <th>ATCG01250</th>\n",
              "      <td>Pt</td>\n",
              "      <td>141854</td>\n",
              "      <td>143708</td>\n",
              "      <td>+</td>\n",
              "      <td>1855</td>\n",
              "      <td>0</td>\n",
              "      <td>0</td>\n",
              "      <td>0</td>\n",
              "      <td>0</td>\n",
              "      <td>0</td>\n",
              "      <td>0</td>\n",
              "    </tr>\n",
              "    <tr>\n",
              "      <th>ATCG01270</th>\n",
              "      <td>Pt</td>\n",
              "      <td>144921</td>\n",
              "      <td>145154</td>\n",
              "      <td>-</td>\n",
              "      <td>234</td>\n",
              "      <td>0</td>\n",
              "      <td>0</td>\n",
              "      <td>0</td>\n",
              "      <td>0</td>\n",
              "      <td>0</td>\n",
              "      <td>0</td>\n",
              "    </tr>\n",
              "    <tr>\n",
              "      <th>ATCG01280</th>\n",
              "      <td>Pt</td>\n",
              "      <td>145291</td>\n",
              "      <td>152175</td>\n",
              "      <td>-</td>\n",
              "      <td>6885</td>\n",
              "      <td>0</td>\n",
              "      <td>0</td>\n",
              "      <td>0</td>\n",
              "      <td>0</td>\n",
              "      <td>0</td>\n",
              "      <td>0</td>\n",
              "    </tr>\n",
              "    <tr>\n",
              "      <th>ATCG01300</th>\n",
              "      <td>Pt</td>\n",
              "      <td>152506</td>\n",
              "      <td>152787</td>\n",
              "      <td>+</td>\n",
              "      <td>282</td>\n",
              "      <td>0</td>\n",
              "      <td>0</td>\n",
              "      <td>0</td>\n",
              "      <td>0</td>\n",
              "      <td>0</td>\n",
              "      <td>0</td>\n",
              "    </tr>\n",
              "    <tr>\n",
              "      <th>ATCG01310</th>\n",
              "      <td>Pt</td>\n",
              "      <td>152806</td>\n",
              "      <td>154312</td>\n",
              "      <td>+</td>\n",
              "      <td>1507</td>\n",
              "      <td>0</td>\n",
              "      <td>0</td>\n",
              "      <td>0</td>\n",
              "      <td>0</td>\n",
              "      <td>0</td>\n",
              "      <td>0</td>\n",
              "    </tr>\n",
              "  </tbody>\n",
              "</table>\n",
              "<p>27655 rows × 11 columns</p>\n",
              "</div>"
            ],
            "text/plain": [
              "          Chr   Start     End Strand  Length  col0.root.28C.rep1  \\\n",
              "Geneid                                                             \n",
              "AT1G01010   1    3631    5899      +    2269                 290   \n",
              "AT1G01020   1    6788    9130      -    2343                 171   \n",
              "AT1G01030   1   11649   13714      -    2066                  35   \n",
              "AT1G01040   1   23121   31227      +    8107                 744   \n",
              "AT1G01050   1   31170   33171      -    2002                1544   \n",
              "...        ..     ...     ...    ...     ...                 ...   \n",
              "ATCG01250  Pt  141854  143708      +    1855                   0   \n",
              "ATCG01270  Pt  144921  145154      -     234                   0   \n",
              "ATCG01280  Pt  145291  152175      -    6885                   0   \n",
              "ATCG01300  Pt  152506  152787      +     282                   0   \n",
              "ATCG01310  Pt  152806  154312      +    1507                   0   \n",
              "\n",
              "           col0.root.28C.rep2  col0.root.28C.rep3  hy5.root.28C.rep1  \\\n",
              "Geneid                                                                 \n",
              "AT1G01010                 265                 272                380   \n",
              "AT1G01020                 177                 193                344   \n",
              "AT1G01030                  57                  58                 60   \n",
              "AT1G01040                 739                 803                880   \n",
              "AT1G01050                1328                1502               1697   \n",
              "...                       ...                 ...                ...   \n",
              "ATCG01250                   0                   0                  0   \n",
              "ATCG01270                   0                   0                  0   \n",
              "ATCG01280                   0                   0                  0   \n",
              "ATCG01300                   0                   0                  0   \n",
              "ATCG01310                   0                   0                  0   \n",
              "\n",
              "           hy5.root.28C.rep2  hy5.root.28C.rep3  \n",
              "Geneid                                           \n",
              "AT1G01010                433                350  \n",
              "AT1G01020                301                294  \n",
              "AT1G01030                 58                 57  \n",
              "AT1G01040                884                802  \n",
              "AT1G01050               1870               1626  \n",
              "...                      ...                ...  \n",
              "ATCG01250                  0                  0  \n",
              "ATCG01270                  0                  0  \n",
              "ATCG01280                  0                  0  \n",
              "ATCG01300                  0                  0  \n",
              "ATCG01310                  0                  0  \n",
              "\n",
              "[27655 rows x 11 columns]"
            ]
          },
          "execution_count": 71,
          "metadata": {},
          "output_type": "execute_result"
        }
      ],
      "execution_count": 71
    },
    {
      "id": "84be69d2",
      "cell_type": "markdown",
      "source": "Now we can access each gene by using the Geneid instead of the row number:",
      "metadata": {}
    },
    {
      "id": "a66e43d8",
      "cell_type": "code",
      "source": "counts.loc['AT1G01010']",
      "metadata": {},
      "outputs": [
        {
          "data": {
            "text/plain": [
              "Chr                      1\n",
              "Start                 3631\n",
              "End                   5899\n",
              "Strand                   +\n",
              "Length                2269\n",
              "col0.root.28C.rep1     290\n",
              "col0.root.28C.rep2     265\n",
              "col0.root.28C.rep3     272\n",
              "hy5.root.28C.rep1      380\n",
              "hy5.root.28C.rep2      433\n",
              "hy5.root.28C.rep3      350\n",
              "Name: AT1G01010, dtype: object"
            ]
          },
          "execution_count": 73,
          "metadata": {},
          "output_type": "execute_result"
        }
      ],
      "execution_count": 73
    },
    {
      "id": "43cc4ef3",
      "cell_type": "markdown",
      "source": "**Metadata**\n\nSince our samples belong to two different categories, we can add some metadata. For this we read in the metadata file. Alternatively you can create a dataframe using a dictionary, if you do not have a file with metadata available.",
      "metadata": {}
    },
    {
      "id": "778713ee",
      "cell_type": "code",
      "source": "# get the sample names\nmetadata = pd.read_csv('metadata.csv')\nmetadata",
      "metadata": {},
      "outputs": [
        {
          "data": {
            "text/html": [
              "<div>\n",
              "<style scoped>\n",
              "    .dataframe tbody tr th:only-of-type {\n",
              "        vertical-align: middle;\n",
              "    }\n",
              "\n",
              "    .dataframe tbody tr th {\n",
              "        vertical-align: top;\n",
              "    }\n",
              "\n",
              "    .dataframe thead th {\n",
              "        text-align: right;\n",
              "    }\n",
              "</style>\n",
              "<table border=\"1\" class=\"dataframe\">\n",
              "  <thead>\n",
              "    <tr style=\"text-align: right;\">\n",
              "      <th></th>\n",
              "      <th>sample_id</th>\n",
              "      <th>genotype</th>\n",
              "    </tr>\n",
              "  </thead>\n",
              "  <tbody>\n",
              "    <tr>\n",
              "      <th>0</th>\n",
              "      <td>col0.root.28C.rep1</td>\n",
              "      <td>Col-0</td>\n",
              "    </tr>\n",
              "    <tr>\n",
              "      <th>1</th>\n",
              "      <td>col0.root.28C.rep2</td>\n",
              "      <td>Col-0</td>\n",
              "    </tr>\n",
              "    <tr>\n",
              "      <th>2</th>\n",
              "      <td>col0.root.28C.rep3</td>\n",
              "      <td>Col-0</td>\n",
              "    </tr>\n",
              "    <tr>\n",
              "      <th>3</th>\n",
              "      <td>hy5.root.28C.rep1</td>\n",
              "      <td>hy5</td>\n",
              "    </tr>\n",
              "    <tr>\n",
              "      <th>4</th>\n",
              "      <td>hy5.root.28C.rep2</td>\n",
              "      <td>hy5</td>\n",
              "    </tr>\n",
              "    <tr>\n",
              "      <th>5</th>\n",
              "      <td>hy5.root.28C.rep3</td>\n",
              "      <td>hy5</td>\n",
              "    </tr>\n",
              "  </tbody>\n",
              "</table>\n",
              "</div>"
            ],
            "text/plain": [
              "            sample_id genotype\n",
              "0  col0.root.28C.rep1    Col-0\n",
              "1  col0.root.28C.rep2    Col-0\n",
              "2  col0.root.28C.rep3    Col-0\n",
              "3   hy5.root.28C.rep1      hy5\n",
              "4   hy5.root.28C.rep2      hy5\n",
              "5   hy5.root.28C.rep3      hy5"
            ]
          },
          "execution_count": 60,
          "metadata": {},
          "output_type": "execute_result"
        }
      ],
      "execution_count": 60
    }
  ],
 "metadata": {
  "kernelspec": {
   "display_name": "base",
   "language": "python",
   "name": "python3"
  },
  "language_info": {
   "codemirror_mode": {
    "name": "ipython",
    "version": 3
   },
   "file_extension": ".py",
   "mimetype": "text/x-python",
   "name": "python",
   "nbconvert_exporter": "python",
   "pygments_lexer": "ipython3",
   "version": "3.12.7"
  }
 },
 "nbformat": 4,
 "nbformat_minor": 5
}