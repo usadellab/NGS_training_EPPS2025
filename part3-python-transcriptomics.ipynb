{
 "cells": [
  {
   "cell_type": "markdown",
   "id": "4d7386e2",
   "metadata": {},
   "source": [
    "# Part 3: Basic Data Analysis in Python"
   ]
  },
  {
   "cell_type": "markdown",
   "id": "0ba51764",
   "metadata": {},
   "source": [
    "<div class=\"alert alert-block alert-info\"> <b>Welcome back!</b> In this section you will learn the basics to master the best programming language of all: <i>python!</i> </div>"
   ]
  },
  {
   "cell_type": "markdown",
   "id": "ab5a40e2",
   "metadata": {},
   "source": [
    "**Why python?** <br>\n",
    "1. Python offers a clearer, more readable syntax and robust error handling, making complex programming tasks easier to manage and debug compared to Bash scripts.\n",
    "2. With an extensive ecosystem of libraries and frameworks, Python can handle a wider range of applications—from data analysis to web development—while Bash is primarily suited for system and file management tasks.\n",
    "3. Python is cross-platform compatible, which means that it can run on any device you can imagine (including your fridge). A strong community support provides continuous improvements and resources, ensuring more sustainable, maintainable, and scalable solutions than Bash.\n"
   ]
  },
  {
   "cell_type": "markdown",
   "id": "27c3a411",
   "metadata": {},
   "source": [
    "# 3.1 Python Packages: Installation and Importing"
   ]
  },
  {
   "cell_type": "markdown",
   "id": "0865e3d0",
   "metadata": {},
   "source": [
    "Python offers a wide variety of packages to help you with your data analysis. More and more packages are being created or you can even create your own! \n",
    "\n",
    "**Installation of packages**\n",
    "\n",
    "There are several options to install packages:\n",
    "1. Using pip for your python version in the command line (https://pypi.org/project/pip/)\n",
    "2. Using a tool like conda (https://docs.conda.io/en/latest/), which also includes python and an environment management system\n",
    "3. Download packages from github (if you have a special scientific case and someone in another lab already wrote some code you can use) and install manually.\n",
    "\n",
    "\n",
    "In this juypter lab environment we are using today, we need to install packages using pip in the command line using the following command:"
   ]
  },
  {
   "cell_type": "raw",
   "id": "5f7b7715",
   "metadata": {
    "vscode": {
     "languageId": "raw"
    }
   },
   "source": [
    "pip install pandas\n",
    "pip install matplotlib\n",
    "\n",
    "# the numpy installation on the jupyter hub has a problem. Therefore please execute these commands also\n",
    "# uninstall the current numpy version\n",
    "pip uninstall numpy\n",
    "\n",
    "# install a specific numpy version\n",
    "pip install numpy==1.26.4"
   ]
  },
  {
   "cell_type": "markdown",
   "id": "212d9a4d",
   "metadata": {},
   "source": [
    "**Importing packages**\n",
    "\n",
    "Now we have installed our first packages. How do we use it in python?"
   ]
  },
  {
   "cell_type": "markdown",
   "id": "78637b4e",
   "metadata": {},
   "source": [
    "We first need to import the package into our script. To access functions a package offer us, we use the package name to reference it. For this reason we can also give pandas as shorter name, so we do not need to type out pandas everytime we want to use it. "
   ]
  },
  {
   "cell_type": "code",
   "execution_count": 1,
   "id": "ade4b3a0",
   "metadata": {},
   "outputs": [],
   "source": [
    "#import pandas\n",
    "import pandas as pd\n",
    "\n",
    "# Importing just one function from a package is also possible\n",
    "# from matplotlib import pyplot"
   ]
  },
  {
   "cell_type": "markdown",
   "id": "e5182972",
   "metadata": {},
   "source": [
    "Available packages (should) come with documentation. For pandas you can check out their extensive documentation website here: https://pandas.pydata.org/docs/index.html "
   ]
  },
  {
   "cell_type": "markdown",
   "id": "7e4d27d5",
   "metadata": {},
   "source": [
    "# 3.2 Excursion: Data types in Python\n",
    "\n",
    "Before we can use our imported package, we need to learn about data types that are used in Python. Here we want to give you a short overview over those datatypes."
   ]
  },
  {
   "cell_type": "markdown",
   "id": "52c33023",
   "metadata": {},
   "source": [
    "### Lists\n"
   ]
  },
  {
   "cell_type": "markdown",
   "id": "dff6319c",
   "metadata": {},
   "source": [
    "**A list is an ordered, mutable collection of items.**"
   ]
  },
  {
   "cell_type": "code",
   "execution_count": 2,
   "id": "10fc2730",
   "metadata": {},
   "outputs": [
    {
     "data": {
      "text/plain": [
       "['apple', 'banana', 'cherry']"
      ]
     },
     "execution_count": 2,
     "metadata": {},
     "output_type": "execute_result"
    }
   ],
   "source": [
    "fruits = [\"apple\", \"banana\", \"cherry\"]\n",
    "fruits"
   ]
  },
  {
   "cell_type": "markdown",
   "id": "4e85c0ef",
   "metadata": {},
   "source": [
    "Elements of a list can be accessed using brackets: [] \n",
    "\n",
    "Beware: Python starts counting elements at 0! Go ahead and test what happens when you try to access different items in the list."
   ]
  },
  {
   "cell_type": "code",
   "execution_count": 3,
   "id": "9a2824ca",
   "metadata": {},
   "outputs": [
    {
     "name": "stdout",
     "output_type": "stream",
     "text": [
      "apple\n"
     ]
    }
   ],
   "source": [
    "print(fruits[0])"
   ]
  },
  {
   "cell_type": "markdown",
   "id": "65234dd9",
   "metadata": {},
   "source": [
    "To add to a list, we can use the append fuction."
   ]
  },
  {
   "cell_type": "code",
   "execution_count": 4,
   "id": "0ee1ad1c",
   "metadata": {},
   "outputs": [
    {
     "data": {
      "text/plain": [
       "['apple', 'banana', 'cherry', 'mleon']"
      ]
     },
     "execution_count": 4,
     "metadata": {},
     "output_type": "execute_result"
    }
   ],
   "source": [
    "fruits.append('mleon')\n",
    "fruits"
   ]
  },
  {
   "cell_type": "markdown",
   "id": "414bec99",
   "metadata": {},
   "source": [
    "Or we can replace an element in the list (for example when we have added a typo...):"
   ]
  },
  {
   "cell_type": "code",
   "execution_count": 5,
   "id": "e028139e",
   "metadata": {},
   "outputs": [
    {
     "data": {
      "text/plain": [
       "['apple', 'banana', 'cherry', 'melon']"
      ]
     },
     "execution_count": 5,
     "metadata": {},
     "output_type": "execute_result"
    }
   ],
   "source": [
    "fruits [3] = 'melon'\n",
    "fruits"
   ]
  },
  {
   "cell_type": "markdown",
   "id": "fc5eb24d",
   "metadata": {},
   "source": [
    "### Dictionaries"
   ]
  },
  {
   "cell_type": "markdown",
   "id": "0a00e7e3",
   "metadata": {},
   "source": [
    "**A dictionary stores key-value pairs, allowing fast retrieval based on unique keys.**"
   ]
  },
  {
   "cell_type": "markdown",
   "id": "f2e7afdb",
   "metadata": {},
   "source": [
    "Dictionaries (short dicts) are very powerful, especially in bioinformatics. Think of pairs of primer names and sequences! So, remember dicts! They are your friends."
   ]
  },
  {
   "cell_type": "code",
   "execution_count": 6,
   "id": "d5ac80c4",
   "metadata": {},
   "outputs": [
    {
     "data": {
      "text/plain": [
       "'CGTAGCT'"
      ]
     },
     "execution_count": 6,
     "metadata": {},
     "output_type": "execute_result"
    }
   ],
   "source": [
    "primer_order = {'primer_1':'AATGC', 'primer_2':'CGTAGCT', 'primer_3':'cgtcagt'}\n",
    "primer_order['primer_2']"
   ]
  },
  {
   "cell_type": "markdown",
   "id": "cf1cb888",
   "metadata": {},
   "source": [
    "By the way, did you see that the sequence in `primer_3` is lowercase? we can fix that, if we want"
   ]
  },
  {
   "cell_type": "code",
   "execution_count": 7,
   "id": "c5745e0b",
   "metadata": {},
   "outputs": [
    {
     "data": {
      "text/plain": [
       "'CGTCAGT'"
      ]
     },
     "execution_count": 7,
     "metadata": {},
     "output_type": "execute_result"
    }
   ],
   "source": [
    "primer_order['primer_3'].upper()"
   ]
  },
  {
   "cell_type": "markdown",
   "id": "cff4cd18",
   "metadata": {},
   "source": [
    "... and write the data back to the dict"
   ]
  },
  {
   "cell_type": "code",
   "execution_count": 8,
   "id": "a4cece66",
   "metadata": {},
   "outputs": [
    {
     "data": {
      "text/plain": [
       "{'primer_1': 'AATGC', 'primer_2': 'CGTAGCT', 'primer_3': 'CGTCAGT'}"
      ]
     },
     "execution_count": 8,
     "metadata": {},
     "output_type": "execute_result"
    }
   ],
   "source": [
    "primer_order['primer_3'] = primer_order['primer_3'].upper()\n",
    "primer_order"
   ]
  },
  {
   "cell_type": "markdown",
   "id": "04090fbb",
   "metadata": {},
   "source": [
    "You can always return all keys and values as lists:"
   ]
  },
  {
   "cell_type": "code",
   "execution_count": 9,
   "id": "9acc7b31",
   "metadata": {},
   "outputs": [
    {
     "data": {
      "text/plain": [
       "['primer_1', 'primer_2', 'primer_3']"
      ]
     },
     "execution_count": 9,
     "metadata": {},
     "output_type": "execute_result"
    }
   ],
   "source": [
    "list(primer_order.keys())"
   ]
  },
  {
   "cell_type": "code",
   "execution_count": 10,
   "id": "b5c4147c",
   "metadata": {},
   "outputs": [
    {
     "data": {
      "text/plain": [
       "['AATGC', 'CGTAGCT', 'CGTCAGT']"
      ]
     },
     "execution_count": 10,
     "metadata": {},
     "output_type": "execute_result"
    }
   ],
   "source": [
    "list(primer_order.values())"
   ]
  },
  {
   "cell_type": "markdown",
   "id": "1a32d403",
   "metadata": {},
   "source": [
    "<div class=\"alert alert-block alert-success\"> <b>Now it's your turn!</b> <br>\n",
    "<b>Exercise 1:</b>\n",
    "Perform the following actions: <br>\n",
    "1. Create a dictionary with cute zoo animals and their names: <br><br>\n",
    "    a \"Lion\" named \"Leo\",<br>\n",
    "    a \"Tiger\" named \"Tobias\",<br>\n",
    "    an \"Elephant\" named \"Ella\",<br>\n",
    "    a \"Giraffe\" named \"Gabriella\",<br>\n",
    "    a \"Zebra\" named \"Zelda\"<br>\n",
    "    a \"Tiger\" named \"Ted\" <br> <br>\n",
    "2. from the dictionary, create a <b>non-redundant list</b> with all zoo animals <br>\n",
    "3. from the dictionary, create a list of all zoo animal's names, sorted alphabetically (use the <code>sorted(your_list)</code> command!) <br> <br>\n",
    "\n",
    "<i>Hint: Be careful how you construct your dict! Python can only handle unique keys! Values can be non-unique...</i>\n",
    "\n",
    "\n",
    "</div>"
   ]
  },
  {
   "cell_type": "code",
   "execution_count": 11,
   "id": "9bd94fc3",
   "metadata": {},
   "outputs": [],
   "source": [
    "# Your solution goes here\n",
    "\n",
    "\n",
    "\n",
    "\n",
    "\n",
    "\n",
    "\n",
    "\n",
    "\n",
    "\n",
    "\n",
    "\n",
    "\n",
    "\n",
    "\n",
    "\n",
    "\n",
    "\n"
   ]
  },
  {
   "cell_type": "code",
   "execution_count": 12,
   "id": "c1eb8ba6",
   "metadata": {},
   "outputs": [
    {
     "name": "stdout",
     "output_type": "stream",
     "text": [
      "['Giraffe', 'Zebra', 'Elephant', 'Lion', 'Tiger']\n",
      "['Ella', 'Gabriella', 'Leo', 'Ted', 'Tobias', 'Zelda']\n"
     ]
    }
   ],
   "source": [
    "# A possible solution: CLICK to unfold\n",
    "'''\n",
    "construct the dict using the animals' names as keys. They are unique anyways. If we do it the other way round, the duplicate key \"Tiger\" will be overwritten and we'll \n",
    "miss Tobias :-( Try it out! \n",
    "btw, this is a comment block!\n",
    "'''\n",
    "\n",
    "zoo_animals = {\n",
    "    \"Leo\": \"Lion\",\n",
    "    \"Tobias\": \"Tiger\",\n",
    "    \"Ella\": \"Elephant\",\n",
    "    \"Gabriella\": \"Giraffe\",\n",
    "    \"Zelda\": \"Zebra\",\n",
    "    \"Ted\" : \"Tiger\" \n",
    "}\n",
    "\n",
    "all_animals = list(set(zoo_animals.values()))\n",
    "print(all_animals)\n",
    "\n",
    "all_names_sorted = sorted(list(zoo_animals.keys()))\n",
    "print(all_names_sorted)"
   ]
  },
  {
   "cell_type": "markdown",
   "id": "2a8a5e43",
   "metadata": {},
   "source": [
    "### Tuples\n",
    "Just for the sake of introducing all types, will be skipped today...\n"
   ]
  },
  {
   "cell_type": "markdown",
   "id": "7c2ef46a",
   "metadata": {},
   "source": [
    "**A tuple is an ordered, immutable collection of items.**"
   ]
  },
  {
   "cell_type": "code",
   "execution_count": 13,
   "id": "ce088272",
   "metadata": {
    "slideshow": {
     "slide_type": "slide"
    }
   },
   "outputs": [
    {
     "name": "stdout",
     "output_type": "stream",
     "text": [
      "20\n"
     ]
    }
   ],
   "source": [
    "coordinates = (10, 20)\n",
    "print(coordinates[1]) "
   ]
  },
  {
   "cell_type": "code",
   "execution_count": 14,
   "id": "01e7919b",
   "metadata": {},
   "outputs": [],
   "source": [
    "# tuples are immutable \n",
    "#coordinates[0] = 15  "
   ]
  },
  {
   "cell_type": "markdown",
   "id": "b9c95779",
   "metadata": {},
   "source": [
    "### Sets\n",
    "Just for the sake of introducing all types, will be skipped today...\n"
   ]
  },
  {
   "cell_type": "markdown",
   "id": "51265a66",
   "metadata": {},
   "source": [
    "**A set is an unordered collection of unique items.**"
   ]
  },
  {
   "cell_type": "code",
   "execution_count": 15,
   "id": "37ff78b0",
   "metadata": {},
   "outputs": [],
   "source": [
    "unique_numbers = {1, 2, 3, 2, 1}"
   ]
  },
  {
   "cell_type": "code",
   "execution_count": 16,
   "id": "0be4e12d",
   "metadata": {},
   "outputs": [
    {
     "data": {
      "text/plain": [
       "{1, 2, 3}"
      ]
     },
     "execution_count": 16,
     "metadata": {},
     "output_type": "execute_result"
    }
   ],
   "source": [
    "# Sets automatically remove duplicates:\n",
    "unique_numbers"
   ]
  },
  {
   "cell_type": "code",
   "execution_count": 17,
   "id": "41a79948",
   "metadata": {},
   "outputs": [
    {
     "name": "stdout",
     "output_type": "stream",
     "text": [
      "{1, 3, 4}\n"
     ]
    }
   ],
   "source": [
    "# adding or removing items\n",
    "unique_numbers.add(4)\n",
    "unique_numbers.discard(2)\n",
    "print(unique_numbers) "
   ]
  },
  {
   "cell_type": "markdown",
   "id": "45b976e4",
   "metadata": {},
   "source": [
    "Sets can be used to deduplicate lists:"
   ]
  },
  {
   "cell_type": "code",
   "execution_count": 18,
   "id": "430c1b5c",
   "metadata": {},
   "outputs": [
    {
     "data": {
      "text/plain": [
       "{'primer_1', 'primer_2'}"
      ]
     },
     "execution_count": 18,
     "metadata": {},
     "output_type": "execute_result"
    }
   ],
   "source": [
    "\n",
    "primer_order = ['primer_1', 'primer_1', 'primer_2']\n",
    "set(primer_order)"
   ]
  },
  {
   "cell_type": "markdown",
   "id": "9e062baf",
   "metadata": {},
   "source": [
    "but be aware that you have to save your data after such an operation!"
   ]
  },
  {
   "cell_type": "code",
   "execution_count": 19,
   "id": "e43bdfd3",
   "metadata": {},
   "outputs": [
    {
     "data": {
      "text/plain": [
       "['primer_1', 'primer_1', 'primer_2']"
      ]
     },
     "execution_count": 19,
     "metadata": {},
     "output_type": "execute_result"
    }
   ],
   "source": [
    "primer_order"
   ]
  },
  {
   "cell_type": "code",
   "execution_count": 20,
   "id": "f7f77e33",
   "metadata": {},
   "outputs": [
    {
     "data": {
      "text/plain": [
       "{'primer_1', 'primer_2'}"
      ]
     },
     "execution_count": 20,
     "metadata": {},
     "output_type": "execute_result"
    }
   ],
   "source": [
    "primer_order_deduplicated = set(primer_order)\n",
    "primer_order_deduplicated"
   ]
  },
  {
   "cell_type": "markdown",
   "id": "a91c246b",
   "metadata": {},
   "source": [
    "You can also convert your data back into a list"
   ]
  },
  {
   "cell_type": "code",
   "execution_count": 21,
   "id": "61ecfb1b",
   "metadata": {},
   "outputs": [
    {
     "data": {
      "text/plain": [
       "['primer_1', 'primer_2']"
      ]
     },
     "execution_count": 21,
     "metadata": {},
     "output_type": "execute_result"
    }
   ],
   "source": [
    "list(primer_order_deduplicated)"
   ]
  },
  {
   "cell_type": "markdown",
   "id": "79014c80",
   "metadata": {},
   "source": [
    "# 3.3 Pandas Dataframes\n",
    "\n",
    "Pandas is a versatile library for data manipulation and analysis. It introduces two primary data structures: Series (1-dimensional) and DataFrame (2-dimensional), which are perfect for handling tabular data commonly found in bioinformatics. \n",
    "\n",
    "Here we want to explore the basics of dataframes with a example similar to count data from a transcriptomics experiment. In this dataframe we have genes, their respective chromosome and the expression level of these genes in our sample."
   ]
  },
  {
   "cell_type": "code",
   "execution_count": 22,
   "id": "22352f3f",
   "metadata": {},
   "outputs": [],
   "source": [
    "# Creating a DataFrame from a dictionary\n",
    "gene_data = {\n",
    "    'Gene': ['BRCA1', 'GLDP1', 'EGFR', 'MYC', 'APOE'],\n",
    "    'Chromosome': ['17', '17', '7', '8', '19'],\n",
    "    'Expression_Level': [50, 75, 65, 80, 45]\n",
    "    \n",
    "}\n",
    "\n",
    "df = pd.DataFrame(gene_data)"
   ]
  },
  {
   "cell_type": "markdown",
   "id": "dc8f5fb7",
   "metadata": {},
   "source": [
    "Now we can have a look in a viewable version of this dataframe:"
   ]
  },
  {
   "cell_type": "code",
   "execution_count": 23,
   "id": "2e1b9710",
   "metadata": {},
   "outputs": [
    {
     "data": {
      "text/html": [
       "<div>\n",
       "<style scoped>\n",
       "    .dataframe tbody tr th:only-of-type {\n",
       "        vertical-align: middle;\n",
       "    }\n",
       "\n",
       "    .dataframe tbody tr th {\n",
       "        vertical-align: top;\n",
       "    }\n",
       "\n",
       "    .dataframe thead th {\n",
       "        text-align: right;\n",
       "    }\n",
       "</style>\n",
       "<table border=\"1\" class=\"dataframe\">\n",
       "  <thead>\n",
       "    <tr style=\"text-align: right;\">\n",
       "      <th></th>\n",
       "      <th>Gene</th>\n",
       "      <th>Chromosome</th>\n",
       "      <th>Expression_Level</th>\n",
       "    </tr>\n",
       "  </thead>\n",
       "  <tbody>\n",
       "    <tr>\n",
       "      <th>0</th>\n",
       "      <td>BRCA1</td>\n",
       "      <td>17</td>\n",
       "      <td>50</td>\n",
       "    </tr>\n",
       "    <tr>\n",
       "      <th>1</th>\n",
       "      <td>GLDP1</td>\n",
       "      <td>17</td>\n",
       "      <td>75</td>\n",
       "    </tr>\n",
       "    <tr>\n",
       "      <th>2</th>\n",
       "      <td>EGFR</td>\n",
       "      <td>7</td>\n",
       "      <td>65</td>\n",
       "    </tr>\n",
       "    <tr>\n",
       "      <th>3</th>\n",
       "      <td>MYC</td>\n",
       "      <td>8</td>\n",
       "      <td>80</td>\n",
       "    </tr>\n",
       "    <tr>\n",
       "      <th>4</th>\n",
       "      <td>APOE</td>\n",
       "      <td>19</td>\n",
       "      <td>45</td>\n",
       "    </tr>\n",
       "  </tbody>\n",
       "</table>\n",
       "</div>"
      ],
      "text/plain": [
       "    Gene Chromosome  Expression_Level\n",
       "0  BRCA1         17                50\n",
       "1  GLDP1         17                75\n",
       "2   EGFR          7                65\n",
       "3    MYC          8                80\n",
       "4   APOE         19                45"
      ]
     },
     "execution_count": 23,
     "metadata": {},
     "output_type": "execute_result"
    }
   ],
   "source": [
    "df"
   ]
  },
  {
   "cell_type": "markdown",
   "id": "18124c13",
   "metadata": {},
   "source": [
    "We can now select data based on rows or columns:"
   ]
  },
  {
   "cell_type": "code",
   "execution_count": 24,
   "id": "762fe540",
   "metadata": {},
   "outputs": [
    {
     "data": {
      "text/html": [
       "<div>\n",
       "<style scoped>\n",
       "    .dataframe tbody tr th:only-of-type {\n",
       "        vertical-align: middle;\n",
       "    }\n",
       "\n",
       "    .dataframe tbody tr th {\n",
       "        vertical-align: top;\n",
       "    }\n",
       "\n",
       "    .dataframe thead th {\n",
       "        text-align: right;\n",
       "    }\n",
       "</style>\n",
       "<table border=\"1\" class=\"dataframe\">\n",
       "  <thead>\n",
       "    <tr style=\"text-align: right;\">\n",
       "      <th></th>\n",
       "      <th>Gene</th>\n",
       "      <th>Chromosome</th>\n",
       "      <th>Expression_Level</th>\n",
       "    </tr>\n",
       "  </thead>\n",
       "  <tbody>\n",
       "    <tr>\n",
       "      <th>0</th>\n",
       "      <td>BRCA1</td>\n",
       "      <td>17</td>\n",
       "      <td>50</td>\n",
       "    </tr>\n",
       "    <tr>\n",
       "      <th>1</th>\n",
       "      <td>GLDP1</td>\n",
       "      <td>17</td>\n",
       "      <td>75</td>\n",
       "    </tr>\n",
       "  </tbody>\n",
       "</table>\n",
       "</div>"
      ],
      "text/plain": [
       "    Gene Chromosome  Expression_Level\n",
       "0  BRCA1         17                50\n",
       "1  GLDP1         17                75"
      ]
     },
     "execution_count": 24,
     "metadata": {},
     "output_type": "execute_result"
    }
   ],
   "source": [
    "df[df['Chromosome'] == '17']"
   ]
  },
  {
   "cell_type": "code",
   "execution_count": 25,
   "id": "103f9e49",
   "metadata": {},
   "outputs": [
    {
     "data": {
      "text/html": [
       "<div>\n",
       "<style scoped>\n",
       "    .dataframe tbody tr th:only-of-type {\n",
       "        vertical-align: middle;\n",
       "    }\n",
       "\n",
       "    .dataframe tbody tr th {\n",
       "        vertical-align: top;\n",
       "    }\n",
       "\n",
       "    .dataframe thead th {\n",
       "        text-align: right;\n",
       "    }\n",
       "</style>\n",
       "<table border=\"1\" class=\"dataframe\">\n",
       "  <thead>\n",
       "    <tr style=\"text-align: right;\">\n",
       "      <th></th>\n",
       "      <th>Gene</th>\n",
       "      <th>Chromosome</th>\n",
       "      <th>Expression_Level</th>\n",
       "    </tr>\n",
       "  </thead>\n",
       "  <tbody>\n",
       "    <tr>\n",
       "      <th>4</th>\n",
       "      <td>APOE</td>\n",
       "      <td>19</td>\n",
       "      <td>45</td>\n",
       "    </tr>\n",
       "  </tbody>\n",
       "</table>\n",
       "</div>"
      ],
      "text/plain": [
       "   Gene Chromosome  Expression_Level\n",
       "4  APOE         19                45"
      ]
     },
     "execution_count": 25,
     "metadata": {},
     "output_type": "execute_result"
    }
   ],
   "source": [
    "df[df['Expression_Level'] < 50]"
   ]
  },
  {
   "cell_type": "markdown",
   "id": "b37f52eb",
   "metadata": {},
   "source": [
    "<div class=\"alert alert-block alert-success\"> <b>Now it's your turn!</b> <br>\n",
    "<b>Exercise 2:</b>\n",
    "\n",
    "1. Find all genes with an expression level over 70.\n",
    "2. Get all information for the gene BRCA1 from the dataframe.\n",
    "\n",
    "</div>"
   ]
  },
  {
   "cell_type": "code",
   "execution_count": 26,
   "id": "e1b5f189",
   "metadata": {},
   "outputs": [],
   "source": [
    "# Your solution goes here\n",
    "\n",
    "\n",
    "\n",
    "\n",
    "\n",
    "\n",
    "\n",
    "\n",
    "\n",
    "\n"
   ]
  },
  {
   "cell_type": "code",
   "execution_count": 27,
   "id": "028651c4",
   "metadata": {},
   "outputs": [
    {
     "name": "stdout",
     "output_type": "stream",
     "text": [
      "    Gene Chromosome  Expression_Level\n",
      "1  GLDP1         17                75\n",
      "3    MYC          8                80\n",
      "    Gene Chromosome  Expression_Level\n",
      "0  BRCA1         17                50\n"
     ]
    }
   ],
   "source": [
    "# A possible solution: CLICK to unfold\n",
    "\n",
    "# 1. Genes with expression level over 70\n",
    "x = df[df['Expression_Level'] > 70]\n",
    "print(x)\n",
    "\n",
    "# 2. All Information for gene BRCA1\n",
    "y = df[df['Gene'] == 'BRCA1']\n",
    "print(y)"
   ]
  },
  {
   "cell_type": "markdown",
   "id": "92b5eeaa",
   "metadata": {},
   "source": [
    "We can also access a single row or column of our dataframe."
   ]
  },
  {
   "cell_type": "code",
   "execution_count": 28,
   "id": "0dfe593c",
   "metadata": {},
   "outputs": [
    {
     "data": {
      "text/plain": [
       "Gene                BRCA1\n",
       "Chromosome             17\n",
       "Expression_Level       50\n",
       "Name: 0, dtype: object"
      ]
     },
     "execution_count": 28,
     "metadata": {},
     "output_type": "execute_result"
    }
   ],
   "source": [
    "#accessing a row (is returned as Series object)\n",
    "df.loc[0]"
   ]
  },
  {
   "cell_type": "code",
   "execution_count": 29,
   "id": "fefddea2",
   "metadata": {},
   "outputs": [
    {
     "data": {
      "text/html": [
       "<div>\n",
       "<style scoped>\n",
       "    .dataframe tbody tr th:only-of-type {\n",
       "        vertical-align: middle;\n",
       "    }\n",
       "\n",
       "    .dataframe tbody tr th {\n",
       "        vertical-align: top;\n",
       "    }\n",
       "\n",
       "    .dataframe thead th {\n",
       "        text-align: right;\n",
       "    }\n",
       "</style>\n",
       "<table border=\"1\" class=\"dataframe\">\n",
       "  <thead>\n",
       "    <tr style=\"text-align: right;\">\n",
       "      <th></th>\n",
       "      <th>Gene</th>\n",
       "      <th>Chromosome</th>\n",
       "      <th>Expression_Level</th>\n",
       "    </tr>\n",
       "  </thead>\n",
       "  <tbody>\n",
       "    <tr>\n",
       "      <th>0</th>\n",
       "      <td>BRCA1</td>\n",
       "      <td>17</td>\n",
       "      <td>50</td>\n",
       "    </tr>\n",
       "    <tr>\n",
       "      <th>1</th>\n",
       "      <td>GLDP1</td>\n",
       "      <td>17</td>\n",
       "      <td>75</td>\n",
       "    </tr>\n",
       "  </tbody>\n",
       "</table>\n",
       "</div>"
      ],
      "text/plain": [
       "    Gene Chromosome  Expression_Level\n",
       "0  BRCA1         17                50\n",
       "1  GLDP1         17                75"
      ]
     },
     "execution_count": 29,
     "metadata": {},
     "output_type": "execute_result"
    }
   ],
   "source": [
    "#accessing multiple rows (is returned as a dataframe)\n",
    "df.loc[[0,1]]"
   ]
  },
  {
   "cell_type": "code",
   "execution_count": 30,
   "id": "766e1643",
   "metadata": {},
   "outputs": [
    {
     "data": {
      "text/plain": [
       "'BRCA1'"
      ]
     },
     "execution_count": 30,
     "metadata": {},
     "output_type": "execute_result"
    }
   ],
   "source": [
    "#accessing a single field by row and column\n",
    "df.loc[0, 'Gene']\n"
   ]
  },
  {
   "cell_type": "markdown",
   "id": "7b9b5b6e",
   "metadata": {},
   "source": [
    "# 3.4 Importing your own data files\n",
    "\n",
    "Pandas also allows us to read in our own data from a **csv** or **excel** file as dataframes!"
   ]
  },
  {
   "cell_type": "code",
   "execution_count": 31,
   "id": "ba996ede",
   "metadata": {},
   "outputs": [
    {
     "name": "stdout",
     "output_type": "stream",
     "text": [
      "                  15S_rRNA\\t4\n",
      "0                21S_rRNA\\t31\n",
      "1                     HRA1\\t5\n",
      "2                   ICR1\\t205\n",
      "3                   LSR1\\t210\n",
      "4                    NME1\\t32\n",
      "...                       ...\n",
      "7125       no_feature\\t888995\n",
      "7126        ambiguous\\t730793\n",
      "7127         too_low_aQual\\t0\n",
      "7128           not_aligned\\t0\n",
      "7129  alignment_not_unique\\t0\n",
      "\n",
      "[7130 rows x 1 columns]\n"
     ]
    }
   ],
   "source": [
    "# reading in your raw count data\n",
    "import pandas as pd\n",
    "\n",
    "sample1 = pd.read_csv('counts/Snf2_rep01.tsv')\n",
    "\n",
    "print(sample1)"
   ]
  },
  {
   "cell_type": "markdown",
   "id": "b838329f",
   "metadata": {},
   "source": [
    "This does not look right.. Any idea what is wrong?"
   ]
  },
  {
   "cell_type": "markdown",
   "id": "47edf8fd",
   "metadata": {},
   "source": [
    "Our data is separated by **tabs** (`\\t`) instead of commas (as pandas expects as standard delimiter for a **comma-separated file**). If you go to the documentation page of pandas for the `read_csv()`-function (https://pandas.pydata.org/docs/reference/api/pandas.read_csv.html), can you find an option which might help here?"
   ]
  },
  {
   "cell_type": "markdown",
   "id": "3a6b32a8",
   "metadata": {},
   "source": [
    "Using the option `delimiter`, we can tell the function, which type of delimiter is used in our file."
   ]
  },
  {
   "cell_type": "code",
   "execution_count": 32,
   "id": "9e77031d",
   "metadata": {},
   "outputs": [
    {
     "name": "stdout",
     "output_type": "stream",
     "text": [
      "                  15S_rRNA       4\n",
      "0                 21S_rRNA      31\n",
      "1                     HRA1       5\n",
      "2                     ICR1     205\n",
      "3                     LSR1     210\n",
      "4                     NME1      32\n",
      "...                    ...     ...\n",
      "7125            no_feature  888995\n",
      "7126             ambiguous  730793\n",
      "7127         too_low_aQual       0\n",
      "7128           not_aligned       0\n",
      "7129  alignment_not_unique       0\n",
      "\n",
      "[7130 rows x 2 columns]\n"
     ]
    }
   ],
   "source": [
    "sample1 = pd.read_csv('counts/Snf2_rep01.tsv', delimiter='\\t')\n",
    "\n",
    "print(sample1)"
   ]
  },
  {
   "cell_type": "markdown",
   "id": "109379ff",
   "metadata": {},
   "source": [
    "Now we have the correct delimiter. There is still another problem with the data. Can you spot it?"
   ]
  },
  {
   "cell_type": "markdown",
   "id": "f5bac2cd",
   "metadata": {},
   "source": [
    "Our data does not have a header row. We can tell `read_csv()` that our data does not have a header using `header=None`."
   ]
  },
  {
   "cell_type": "code",
   "execution_count": 33,
   "id": "bcb0c2b6",
   "metadata": {},
   "outputs": [
    {
     "name": "stdout",
     "output_type": "stream",
     "text": [
      "                         0       1\n",
      "0                 15S_rRNA       4\n",
      "1                 21S_rRNA      31\n",
      "2                     HRA1       5\n",
      "3                     ICR1     205\n",
      "4                     LSR1     210\n",
      "...                    ...     ...\n",
      "7126            no_feature  888995\n",
      "7127             ambiguous  730793\n",
      "7128         too_low_aQual       0\n",
      "7129           not_aligned       0\n",
      "7130  alignment_not_unique       0\n",
      "\n",
      "[7131 rows x 2 columns]\n"
     ]
    }
   ],
   "source": [
    "sample1 = pd.read_csv('counts/Snf2_rep01.tsv', delimiter='\\t', header=None)\n",
    "\n",
    "print(sample1)"
   ]
  },
  {
   "cell_type": "markdown",
   "id": "6a5b1205",
   "metadata": {},
   "source": [
    "But we want to know what each column is. So we can set column names for our data frame:"
   ]
  },
  {
   "cell_type": "code",
   "execution_count": 34,
   "id": "36c1b581",
   "metadata": {},
   "outputs": [
    {
     "name": "stdout",
     "output_type": "stream",
     "text": [
      "             gene_features  Sample1\n",
      "0                 15S_rRNA        4\n",
      "1                 21S_rRNA       31\n",
      "2                     HRA1        5\n",
      "3                     ICR1      205\n",
      "4                     LSR1      210\n",
      "...                    ...      ...\n",
      "7126            no_feature   888995\n",
      "7127             ambiguous   730793\n",
      "7128         too_low_aQual        0\n",
      "7129           not_aligned        0\n",
      "7130  alignment_not_unique        0\n",
      "\n",
      "[7131 rows x 2 columns]\n"
     ]
    }
   ],
   "source": [
    "sample1.columns = ['gene_features', 'Sample1']\n",
    "\n",
    "print(sample1)"
   ]
  },
  {
   "cell_type": "markdown",
   "id": "abe0aabe",
   "metadata": {},
   "source": [
    "We can also set the index of the data frame to the `gene_features` column, since this will be the same in all the count data. This also allows us to access rows by gene name instead of using the row number."
   ]
  },
  {
   "cell_type": "code",
   "execution_count": 35,
   "id": "aae68d42",
   "metadata": {},
   "outputs": [
    {
     "data": {
      "text/html": [
       "<div>\n",
       "<style scoped>\n",
       "    .dataframe tbody tr th:only-of-type {\n",
       "        vertical-align: middle;\n",
       "    }\n",
       "\n",
       "    .dataframe tbody tr th {\n",
       "        vertical-align: top;\n",
       "    }\n",
       "\n",
       "    .dataframe thead th {\n",
       "        text-align: right;\n",
       "    }\n",
       "</style>\n",
       "<table border=\"1\" class=\"dataframe\">\n",
       "  <thead>\n",
       "    <tr style=\"text-align: right;\">\n",
       "      <th></th>\n",
       "      <th>Sample1</th>\n",
       "    </tr>\n",
       "    <tr>\n",
       "      <th>gene_features</th>\n",
       "      <th></th>\n",
       "    </tr>\n",
       "  </thead>\n",
       "  <tbody>\n",
       "    <tr>\n",
       "      <th>15S_rRNA</th>\n",
       "      <td>4</td>\n",
       "    </tr>\n",
       "    <tr>\n",
       "      <th>21S_rRNA</th>\n",
       "      <td>31</td>\n",
       "    </tr>\n",
       "    <tr>\n",
       "      <th>HRA1</th>\n",
       "      <td>5</td>\n",
       "    </tr>\n",
       "    <tr>\n",
       "      <th>ICR1</th>\n",
       "      <td>205</td>\n",
       "    </tr>\n",
       "    <tr>\n",
       "      <th>LSR1</th>\n",
       "      <td>210</td>\n",
       "    </tr>\n",
       "    <tr>\n",
       "      <th>...</th>\n",
       "      <td>...</td>\n",
       "    </tr>\n",
       "    <tr>\n",
       "      <th>no_feature</th>\n",
       "      <td>888995</td>\n",
       "    </tr>\n",
       "    <tr>\n",
       "      <th>ambiguous</th>\n",
       "      <td>730793</td>\n",
       "    </tr>\n",
       "    <tr>\n",
       "      <th>too_low_aQual</th>\n",
       "      <td>0</td>\n",
       "    </tr>\n",
       "    <tr>\n",
       "      <th>not_aligned</th>\n",
       "      <td>0</td>\n",
       "    </tr>\n",
       "    <tr>\n",
       "      <th>alignment_not_unique</th>\n",
       "      <td>0</td>\n",
       "    </tr>\n",
       "  </tbody>\n",
       "</table>\n",
       "<p>7131 rows × 1 columns</p>\n",
       "</div>"
      ],
      "text/plain": [
       "                      Sample1\n",
       "gene_features                \n",
       "15S_rRNA                    4\n",
       "21S_rRNA                   31\n",
       "HRA1                        5\n",
       "ICR1                      205\n",
       "LSR1                      210\n",
       "...                       ...\n",
       "no_feature             888995\n",
       "ambiguous              730793\n",
       "too_low_aQual               0\n",
       "not_aligned                 0\n",
       "alignment_not_unique        0\n",
       "\n",
       "[7131 rows x 1 columns]"
      ]
     },
     "execution_count": 35,
     "metadata": {},
     "output_type": "execute_result"
    }
   ],
   "source": [
    "sample1 = sample1.set_index('gene_features')\n",
    "sample1"
   ]
  },
  {
   "cell_type": "code",
   "execution_count": 36,
   "id": "a66e43d8",
   "metadata": {},
   "outputs": [
    {
     "data": {
      "text/plain": [
       "Sample1    210\n",
       "Name: LSR1, dtype: int64"
      ]
     },
     "execution_count": 36,
     "metadata": {},
     "output_type": "execute_result"
    }
   ],
   "source": [
    "sample1.loc['LSR1']"
   ]
  },
  {
   "cell_type": "markdown",
   "id": "2a636959",
   "metadata": {},
   "source": [
    "But now we only have one sample in our data frame. How can we read in all of them?\n",
    "\n",
    "One way would be to read in all files and then merge the dataframes:"
   ]
  },
  {
   "cell_type": "code",
   "execution_count": 37,
   "id": "f6b682a8",
   "metadata": {},
   "outputs": [
    {
     "data": {
      "text/html": [
       "<div>\n",
       "<style scoped>\n",
       "    .dataframe tbody tr th:only-of-type {\n",
       "        vertical-align: middle;\n",
       "    }\n",
       "\n",
       "    .dataframe tbody tr th {\n",
       "        vertical-align: top;\n",
       "    }\n",
       "\n",
       "    .dataframe thead th {\n",
       "        text-align: right;\n",
       "    }\n",
       "</style>\n",
       "<table border=\"1\" class=\"dataframe\">\n",
       "  <thead>\n",
       "    <tr style=\"text-align: right;\">\n",
       "      <th></th>\n",
       "      <th>Sample2</th>\n",
       "    </tr>\n",
       "  </thead>\n",
       "  <tbody>\n",
       "    <tr>\n",
       "      <th>15S_rRNA</th>\n",
       "      <td>2</td>\n",
       "    </tr>\n",
       "    <tr>\n",
       "      <th>21S_rRNA</th>\n",
       "      <td>18</td>\n",
       "    </tr>\n",
       "    <tr>\n",
       "      <th>HRA1</th>\n",
       "      <td>1</td>\n",
       "    </tr>\n",
       "    <tr>\n",
       "      <th>ICR1</th>\n",
       "      <td>196</td>\n",
       "    </tr>\n",
       "    <tr>\n",
       "      <th>LSR1</th>\n",
       "      <td>103</td>\n",
       "    </tr>\n",
       "    <tr>\n",
       "      <th>...</th>\n",
       "      <td>...</td>\n",
       "    </tr>\n",
       "    <tr>\n",
       "      <th>no_feature</th>\n",
       "      <td>641333</td>\n",
       "    </tr>\n",
       "    <tr>\n",
       "      <th>ambiguous</th>\n",
       "      <td>665470</td>\n",
       "    </tr>\n",
       "    <tr>\n",
       "      <th>too_low_aQual</th>\n",
       "      <td>0</td>\n",
       "    </tr>\n",
       "    <tr>\n",
       "      <th>not_aligned</th>\n",
       "      <td>0</td>\n",
       "    </tr>\n",
       "    <tr>\n",
       "      <th>alignment_not_unique</th>\n",
       "      <td>0</td>\n",
       "    </tr>\n",
       "  </tbody>\n",
       "</table>\n",
       "<p>7131 rows × 1 columns</p>\n",
       "</div>"
      ],
      "text/plain": [
       "                      Sample2\n",
       "15S_rRNA                    2\n",
       "21S_rRNA                   18\n",
       "HRA1                        1\n",
       "ICR1                      196\n",
       "LSR1                      103\n",
       "...                       ...\n",
       "no_feature             641333\n",
       "ambiguous              665470\n",
       "too_low_aQual               0\n",
       "not_aligned                 0\n",
       "alignment_not_unique        0\n",
       "\n",
       "[7131 rows x 1 columns]"
      ]
     },
     "execution_count": 37,
     "metadata": {},
     "output_type": "execute_result"
    }
   ],
   "source": [
    "sample2 = pd.read_csv('counts/Snf2_rep02.tsv', delimiter='\\t', index_col=0, names=['Sample2'])\n",
    "\n",
    "sample2"
   ]
  },
  {
   "cell_type": "markdown",
   "id": "3df97c99",
   "metadata": {},
   "source": [
    "Now we have two tables for our two samples.. How do we combine them?"
   ]
  },
  {
   "cell_type": "code",
   "execution_count": 38,
   "id": "ab96eab3",
   "metadata": {},
   "outputs": [
    {
     "data": {
      "text/html": [
       "<div>\n",
       "<style scoped>\n",
       "    .dataframe tbody tr th:only-of-type {\n",
       "        vertical-align: middle;\n",
       "    }\n",
       "\n",
       "    .dataframe tbody tr th {\n",
       "        vertical-align: top;\n",
       "    }\n",
       "\n",
       "    .dataframe thead th {\n",
       "        text-align: right;\n",
       "    }\n",
       "</style>\n",
       "<table border=\"1\" class=\"dataframe\">\n",
       "  <thead>\n",
       "    <tr style=\"text-align: right;\">\n",
       "      <th></th>\n",
       "      <th>Sample1</th>\n",
       "      <th>Sample2</th>\n",
       "    </tr>\n",
       "  </thead>\n",
       "  <tbody>\n",
       "    <tr>\n",
       "      <th>15S_rRNA</th>\n",
       "      <td>4</td>\n",
       "      <td>2</td>\n",
       "    </tr>\n",
       "    <tr>\n",
       "      <th>21S_rRNA</th>\n",
       "      <td>31</td>\n",
       "      <td>18</td>\n",
       "    </tr>\n",
       "    <tr>\n",
       "      <th>HRA1</th>\n",
       "      <td>5</td>\n",
       "      <td>1</td>\n",
       "    </tr>\n",
       "    <tr>\n",
       "      <th>ICR1</th>\n",
       "      <td>205</td>\n",
       "      <td>196</td>\n",
       "    </tr>\n",
       "    <tr>\n",
       "      <th>LSR1</th>\n",
       "      <td>210</td>\n",
       "      <td>103</td>\n",
       "    </tr>\n",
       "    <tr>\n",
       "      <th>...</th>\n",
       "      <td>...</td>\n",
       "      <td>...</td>\n",
       "    </tr>\n",
       "    <tr>\n",
       "      <th>no_feature</th>\n",
       "      <td>888995</td>\n",
       "      <td>641333</td>\n",
       "    </tr>\n",
       "    <tr>\n",
       "      <th>ambiguous</th>\n",
       "      <td>730793</td>\n",
       "      <td>665470</td>\n",
       "    </tr>\n",
       "    <tr>\n",
       "      <th>too_low_aQual</th>\n",
       "      <td>0</td>\n",
       "      <td>0</td>\n",
       "    </tr>\n",
       "    <tr>\n",
       "      <th>not_aligned</th>\n",
       "      <td>0</td>\n",
       "      <td>0</td>\n",
       "    </tr>\n",
       "    <tr>\n",
       "      <th>alignment_not_unique</th>\n",
       "      <td>0</td>\n",
       "      <td>0</td>\n",
       "    </tr>\n",
       "  </tbody>\n",
       "</table>\n",
       "<p>7131 rows × 2 columns</p>\n",
       "</div>"
      ],
      "text/plain": [
       "                      Sample1  Sample2\n",
       "15S_rRNA                    4        2\n",
       "21S_rRNA                   31       18\n",
       "HRA1                        5        1\n",
       "ICR1                      205      196\n",
       "LSR1                      210      103\n",
       "...                       ...      ...\n",
       "no_feature             888995   641333\n",
       "ambiguous              730793   665470\n",
       "too_low_aQual               0        0\n",
       "not_aligned                 0        0\n",
       "alignment_not_unique        0        0\n",
       "\n",
       "[7131 rows x 2 columns]"
      ]
     },
     "execution_count": 38,
     "metadata": {},
     "output_type": "execute_result"
    }
   ],
   "source": [
    "merged_df = pd.merge(sample1, sample2, left_index=True, right_index=True)\n",
    "\n",
    "merged_df"
   ]
  },
  {
   "cell_type": "markdown",
   "id": "c4ae8064",
   "metadata": {},
   "source": [
    "<div class=\"alert alert-block alert-info\">Merge and join operations on data frames can be confusing. \n",
    "\n",
    "In this case here they are easy, because we know that all our files have the same number of lines (eg all gene names). This post here (https://realpython.com/pandas-merge-join-and-concat/) helps a lot to explain the differences between merge, join and concat as well as inner and out join. </div>"
   ]
  },
  {
   "cell_type": "markdown",
   "id": "3fc1a404",
   "metadata": {},
   "source": [
    "Going back to our samples:\n",
    "\n",
    "This way of reading in every single file and then merging seems very tedious, especially if you have a lot of samples. So here is a shorter version, which introduces the concept of a for loop (we will not go into too much detail here though). We also use the name of the file to name our columns. "
   ]
  },
  {
   "cell_type": "code",
   "execution_count": 39,
   "id": "06e0bb4a",
   "metadata": {},
   "outputs": [
    {
     "name": "stdout",
     "output_type": "stream",
     "text": [
      "                      WT_rep04  WT_rep01  WT_rep02  WT_rep03  Snf2_rep04  \\\n",
      "15S_rRNA                     8         2        12        31           5   \n",
      "21S_rRNA                    99        20        76       101          44   \n",
      "HRA1                         2         3         2         2           1   \n",
      "ICR1                       157        75       123       107         252   \n",
      "LSR1                       163        60       163       233         260   \n",
      "...                        ...       ...       ...       ...         ...   \n",
      "no_feature              889880    409051    705266    571431      955003   \n",
      "ambiguous               885758    511292    644560    734023      821933   \n",
      "too_low_aQual                0         0         0         0           0   \n",
      "not_aligned                  0         0         0         0           0   \n",
      "alignment_not_unique         0         0         0         0           0   \n",
      "\n",
      "                      Snf2_rep01  Snf2_rep02  Snf2_rep03  \n",
      "15S_rRNA                       4           2           5  \n",
      "21S_rRNA                      31          18          23  \n",
      "HRA1                           5           1           3  \n",
      "ICR1                         205         196         211  \n",
      "LSR1                         210         103         159  \n",
      "...                          ...         ...         ...  \n",
      "no_feature                888995      641333      544060  \n",
      "ambiguous                 730793      665470      709428  \n",
      "too_low_aQual                  0           0           0  \n",
      "not_aligned                    0           0           0  \n",
      "alignment_not_unique           0           0           0  \n",
      "\n",
      "[7131 rows x 8 columns]\n"
     ]
    }
   ],
   "source": [
    "import os\n",
    "\n",
    "# list all files in the counts folder\n",
    "files  = [f for f in os.listdir('counts')]\n",
    "\n",
    "# create an empty list\n",
    "list_for_dataframes = []\n",
    "\n",
    "\n",
    "for filename in files:\n",
    "    # get the name of the sample from the filename\n",
    "    samplename = filename.split('.')[0]\n",
    "    # read in the file\n",
    "    sampledata = pd.read_csv(os.path.join('counts',filename), delimiter='\\t', index_col=0, names=[samplename])\n",
    "    list_for_dataframes.append(sampledata)\n",
    "\n",
    "\n",
    "# concatinate all dataframes\n",
    "merged_df = pd.concat(list_for_dataframes, axis=1)\n",
    "\n",
    "print(merged_df)"
   ]
  },
  {
   "cell_type": "markdown",
   "id": "e7396a8f",
   "metadata": {},
   "source": [
    "# 3.5 Exploring Count Data\n",
    "Now we can explore the data frame and its features. \n",
    "\n",
    "To get the number of rows and columns of the data frame, we can use `shape`."
   ]
  },
  {
   "cell_type": "code",
   "execution_count": 40,
   "id": "3f7ffd04",
   "metadata": {},
   "outputs": [
    {
     "data": {
      "text/plain": [
       "(7131, 8)"
      ]
     },
     "execution_count": 40,
     "metadata": {},
     "output_type": "execute_result"
    }
   ],
   "source": [
    "merged_df.shape"
   ]
  },
  {
   "cell_type": "markdown",
   "id": "aa0e5412",
   "metadata": {},
   "source": [
    "The function `describe` can give a overview of the data in a dataframe. "
   ]
  },
  {
   "cell_type": "code",
   "execution_count": 41,
   "id": "d6ed20c9",
   "metadata": {},
   "outputs": [
    {
     "data": {
      "text/html": [
       "<div>\n",
       "<style scoped>\n",
       "    .dataframe tbody tr th:only-of-type {\n",
       "        vertical-align: middle;\n",
       "    }\n",
       "\n",
       "    .dataframe tbody tr th {\n",
       "        vertical-align: top;\n",
       "    }\n",
       "\n",
       "    .dataframe thead th {\n",
       "        text-align: right;\n",
       "    }\n",
       "</style>\n",
       "<table border=\"1\" class=\"dataframe\">\n",
       "  <thead>\n",
       "    <tr style=\"text-align: right;\">\n",
       "      <th></th>\n",
       "      <th>WT_rep04</th>\n",
       "      <th>WT_rep01</th>\n",
       "      <th>WT_rep02</th>\n",
       "      <th>WT_rep03</th>\n",
       "      <th>Snf2_rep04</th>\n",
       "      <th>Snf2_rep01</th>\n",
       "      <th>Snf2_rep02</th>\n",
       "      <th>Snf2_rep03</th>\n",
       "    </tr>\n",
       "  </thead>\n",
       "  <tbody>\n",
       "    <tr>\n",
       "      <th>count</th>\n",
       "      <td>7131.000000</td>\n",
       "      <td>7131.000000</td>\n",
       "      <td>7131.000000</td>\n",
       "      <td>7131.000000</td>\n",
       "      <td>7131.000000</td>\n",
       "      <td>7131.000000</td>\n",
       "      <td>7131.000000</td>\n",
       "      <td>7131.000000</td>\n",
       "    </tr>\n",
       "    <tr>\n",
       "      <th>mean</th>\n",
       "      <td>1711.663441</td>\n",
       "      <td>965.426869</td>\n",
       "      <td>1295.798205</td>\n",
       "      <td>1085.879400</td>\n",
       "      <td>1744.373019</td>\n",
       "      <td>1661.604123</td>\n",
       "      <td>1402.453232</td>\n",
       "      <td>1406.061702</td>\n",
       "    </tr>\n",
       "    <tr>\n",
       "      <th>std</th>\n",
       "      <td>16551.330632</td>\n",
       "      <td>8921.410956</td>\n",
       "      <td>12277.544202</td>\n",
       "      <td>11711.422055</td>\n",
       "      <td>15985.415723</td>\n",
       "      <td>14736.902708</td>\n",
       "      <td>12149.991952</td>\n",
       "      <td>11955.527538</td>\n",
       "    </tr>\n",
       "    <tr>\n",
       "      <th>min</th>\n",
       "      <td>0.000000</td>\n",
       "      <td>0.000000</td>\n",
       "      <td>0.000000</td>\n",
       "      <td>0.000000</td>\n",
       "      <td>0.000000</td>\n",
       "      <td>0.000000</td>\n",
       "      <td>0.000000</td>\n",
       "      <td>0.000000</td>\n",
       "    </tr>\n",
       "    <tr>\n",
       "      <th>25%</th>\n",
       "      <td>104.000000</td>\n",
       "      <td>49.000000</td>\n",
       "      <td>87.000000</td>\n",
       "      <td>74.000000</td>\n",
       "      <td>137.000000</td>\n",
       "      <td>137.000000</td>\n",
       "      <td>97.000000</td>\n",
       "      <td>98.000000</td>\n",
       "    </tr>\n",
       "    <tr>\n",
       "      <th>50%</th>\n",
       "      <td>430.000000</td>\n",
       "      <td>224.000000</td>\n",
       "      <td>371.000000</td>\n",
       "      <td>297.000000</td>\n",
       "      <td>562.000000</td>\n",
       "      <td>540.000000</td>\n",
       "      <td>422.000000</td>\n",
       "      <td>408.000000</td>\n",
       "    </tr>\n",
       "    <tr>\n",
       "      <th>75%</th>\n",
       "      <td>1020.000000</td>\n",
       "      <td>561.000000</td>\n",
       "      <td>853.000000</td>\n",
       "      <td>670.500000</td>\n",
       "      <td>1268.000000</td>\n",
       "      <td>1203.500000</td>\n",
       "      <td>960.000000</td>\n",
       "      <td>954.000000</td>\n",
       "    </tr>\n",
       "    <tr>\n",
       "      <th>max</th>\n",
       "      <td>889880.000000</td>\n",
       "      <td>511292.000000</td>\n",
       "      <td>705266.000000</td>\n",
       "      <td>734023.000000</td>\n",
       "      <td>955003.000000</td>\n",
       "      <td>888995.000000</td>\n",
       "      <td>665470.000000</td>\n",
       "      <td>709428.000000</td>\n",
       "    </tr>\n",
       "  </tbody>\n",
       "</table>\n",
       "</div>"
      ],
      "text/plain": [
       "            WT_rep04       WT_rep01       WT_rep02       WT_rep03  \\\n",
       "count    7131.000000    7131.000000    7131.000000    7131.000000   \n",
       "mean     1711.663441     965.426869    1295.798205    1085.879400   \n",
       "std     16551.330632    8921.410956   12277.544202   11711.422055   \n",
       "min         0.000000       0.000000       0.000000       0.000000   \n",
       "25%       104.000000      49.000000      87.000000      74.000000   \n",
       "50%       430.000000     224.000000     371.000000     297.000000   \n",
       "75%      1020.000000     561.000000     853.000000     670.500000   \n",
       "max    889880.000000  511292.000000  705266.000000  734023.000000   \n",
       "\n",
       "          Snf2_rep04     Snf2_rep01     Snf2_rep02     Snf2_rep03  \n",
       "count    7131.000000    7131.000000    7131.000000    7131.000000  \n",
       "mean     1744.373019    1661.604123    1402.453232    1406.061702  \n",
       "std     15985.415723   14736.902708   12149.991952   11955.527538  \n",
       "min         0.000000       0.000000       0.000000       0.000000  \n",
       "25%       137.000000     137.000000      97.000000      98.000000  \n",
       "50%       562.000000     540.000000     422.000000     408.000000  \n",
       "75%      1268.000000    1203.500000     960.000000     954.000000  \n",
       "max    955003.000000  888995.000000  665470.000000  709428.000000  "
      ]
     },
     "execution_count": 41,
     "metadata": {},
     "output_type": "execute_result"
    }
   ],
   "source": [
    "merged_df.describe()"
   ]
  },
  {
   "cell_type": "markdown",
   "id": "43cc4ef3",
   "metadata": {},
   "source": [
    "**Metadata**\n",
    "\n",
    "Since our samples belong to two different categories, we can add some metadata. For this we create data frame from the column (the sample) names and add information to it."
   ]
  },
  {
   "cell_type": "code",
   "execution_count": 42,
   "id": "778713ee",
   "metadata": {},
   "outputs": [
    {
     "name": "stdout",
     "output_type": "stream",
     "text": [
      "Index(['WT_rep04', 'WT_rep01', 'WT_rep02', 'WT_rep03', 'Snf2_rep04',\n",
      "       'Snf2_rep01', 'Snf2_rep02', 'Snf2_rep03'],\n",
      "      dtype='object')\n"
     ]
    },
    {
     "data": {
      "text/html": [
       "<div>\n",
       "<style scoped>\n",
       "    .dataframe tbody tr th:only-of-type {\n",
       "        vertical-align: middle;\n",
       "    }\n",
       "\n",
       "    .dataframe tbody tr th {\n",
       "        vertical-align: top;\n",
       "    }\n",
       "\n",
       "    .dataframe thead th {\n",
       "        text-align: right;\n",
       "    }\n",
       "</style>\n",
       "<table border=\"1\" class=\"dataframe\">\n",
       "  <thead>\n",
       "    <tr style=\"text-align: right;\">\n",
       "      <th></th>\n",
       "      <th>Sample</th>\n",
       "      <th>Type</th>\n",
       "    </tr>\n",
       "  </thead>\n",
       "  <tbody>\n",
       "    <tr>\n",
       "      <th>0</th>\n",
       "      <td>WT_rep04</td>\n",
       "      <td>WT</td>\n",
       "    </tr>\n",
       "    <tr>\n",
       "      <th>1</th>\n",
       "      <td>WT_rep01</td>\n",
       "      <td>WT</td>\n",
       "    </tr>\n",
       "    <tr>\n",
       "      <th>2</th>\n",
       "      <td>WT_rep02</td>\n",
       "      <td>WT</td>\n",
       "    </tr>\n",
       "    <tr>\n",
       "      <th>3</th>\n",
       "      <td>WT_rep03</td>\n",
       "      <td>WT</td>\n",
       "    </tr>\n",
       "    <tr>\n",
       "      <th>4</th>\n",
       "      <td>Snf2_rep04</td>\n",
       "      <td>Snf2</td>\n",
       "    </tr>\n",
       "    <tr>\n",
       "      <th>5</th>\n",
       "      <td>Snf2_rep01</td>\n",
       "      <td>Snf2</td>\n",
       "    </tr>\n",
       "    <tr>\n",
       "      <th>6</th>\n",
       "      <td>Snf2_rep02</td>\n",
       "      <td>Snf2</td>\n",
       "    </tr>\n",
       "    <tr>\n",
       "      <th>7</th>\n",
       "      <td>Snf2_rep03</td>\n",
       "      <td>Snf2</td>\n",
       "    </tr>\n",
       "  </tbody>\n",
       "</table>\n",
       "</div>"
      ],
      "text/plain": [
       "       Sample  Type\n",
       "0    WT_rep04    WT\n",
       "1    WT_rep01    WT\n",
       "2    WT_rep02    WT\n",
       "3    WT_rep03    WT\n",
       "4  Snf2_rep04  Snf2\n",
       "5  Snf2_rep01  Snf2\n",
       "6  Snf2_rep02  Snf2\n",
       "7  Snf2_rep03  Snf2"
      ]
     },
     "execution_count": 42,
     "metadata": {},
     "output_type": "execute_result"
    }
   ],
   "source": [
    "# get the sample names\n",
    "samples = merged_df.columns\n",
    "print(samples)\n",
    "\n",
    "metadata = pd.DataFrame({'Sample': samples, 'Type': ['WT', 'WT', 'WT', 'WT', 'Snf2', 'Snf2', 'Snf2', 'Snf2']})\n",
    "\n",
    "metadata"
   ]
  },
  {
   "cell_type": "markdown",
   "id": "fc7641aa",
   "metadata": {},
   "source": [
    "**Plotting**\n",
    "\n",
    "Now we can plot some boxplots of genes and their expression. For this we im import pyplot from the matplotlib package, which has some nice features for plotting.\n",
    "\n",
    "To create boxplots of the gene expression we need to transpose the dataframe, so we have samples as index and the genes as column names."
   ]
  },
  {
   "cell_type": "code",
   "execution_count": 43,
   "id": "b2ee2209",
   "metadata": {},
   "outputs": [
    {
     "name": "stdout",
     "output_type": "stream",
     "text": [
      "            15S_rRNA  21S_rRNA  HRA1  ICR1  LSR1  NME1  PWR1  Q0010  Q0017  \\\n",
      "WT_rep04           8        99     2   157   163    13     0      0      0   \n",
      "WT_rep01           2        20     3    75    60    13     0      0      0   \n",
      "WT_rep02          12        76     2   123   163    14     0      0      0   \n",
      "WT_rep03          31       101     2   107   233    23     0      0      0   \n",
      "Snf2_rep04         5        44     1   252   260    41     0      0      0   \n",
      "Snf2_rep01         4        31     5   205   210    32     0      0      0   \n",
      "Snf2_rep02         2        18     1   196   103    20     0      0      0   \n",
      "Snf2_rep03         5        23     3   211   159    17     0      0      0   \n",
      "\n",
      "            Q0032  ...  tY(GUA)J2  tY(GUA)M1  tY(GUA)M2  tY(GUA)O  tY(GUA)Q  \\\n",
      "WT_rep04        0  ...          0          1          0         0         0   \n",
      "WT_rep01        0  ...          0          0          0         0         0   \n",
      "WT_rep02        0  ...          1          0          0         0         0   \n",
      "WT_rep03        0  ...          0          1          1         0         0   \n",
      "Snf2_rep04      0  ...          0          0          0         0         0   \n",
      "Snf2_rep01      0  ...          1          0          0         0         0   \n",
      "Snf2_rep02      0  ...          0          0          0         1         0   \n",
      "Snf2_rep03      0  ...          0          1          0         0         0   \n",
      "\n",
      "            no_feature  ambiguous  too_low_aQual  not_aligned  \\\n",
      "WT_rep04        889880     885758              0            0   \n",
      "WT_rep01        409051     511292              0            0   \n",
      "WT_rep02        705266     644560              0            0   \n",
      "WT_rep03        571431     734023              0            0   \n",
      "Snf2_rep04      955003     821933              0            0   \n",
      "Snf2_rep01      888995     730793              0            0   \n",
      "Snf2_rep02      641333     665470              0            0   \n",
      "Snf2_rep03      544060     709428              0            0   \n",
      "\n",
      "            alignment_not_unique  \n",
      "WT_rep04                       0  \n",
      "WT_rep01                       0  \n",
      "WT_rep02                       0  \n",
      "WT_rep03                       0  \n",
      "Snf2_rep04                     0  \n",
      "Snf2_rep01                     0  \n",
      "Snf2_rep02                     0  \n",
      "Snf2_rep03                     0  \n",
      "\n",
      "[8 rows x 7131 columns]\n"
     ]
    }
   ],
   "source": [
    "import matplotlib.pyplot as plt\n",
    "\n",
    "# transpose the dataframe\n",
    "transposed_df = merged_df.T\n",
    "print(transposed_df)"
   ]
  },
  {
   "cell_type": "markdown",
   "id": "387c3175",
   "metadata": {},
   "source": [
    "We can use pandas own boxplot function to plot our data. Since we have such a large number of genes, we choose only a few columns to plot."
   ]
  },
  {
   "cell_type": "code",
   "execution_count": 44,
   "id": "4f56ee55",
   "metadata": {},
   "outputs": [
    {
     "data": {
      "image/png": "[encoded data removed]",
      "text/plain": [
       "<Figure size 640x480 with 1 Axes>"
      ]
     },
     "metadata": {},
     "output_type": "display_data"
    }
   ],
   "source": [
    "boxplot = transposed_df.boxplot(column=['LSR1', 'NME1', 'PWR1'])\n",
    "plt.show()"
   ]
  },
  {
   "cell_type": "markdown",
   "id": "f8d83572",
   "metadata": {},
   "source": [
    "But now we have plotted the counts for each gene for all samples. But we are doing transcriptomics, where we want to compare our wildtype samples to our Snf2 samples. \n",
    "\n",
    "To be able to compare our two conditions, we need to add the metadata we have to our dataframe. As we learned before merging using the same index is easier, so let's set the index in the metadata dataframe."
   ]
  },
  {
   "cell_type": "code",
   "execution_count": 45,
   "id": "0b902f28",
   "metadata": {},
   "outputs": [
    {
     "data": {
      "text/html": [
       "<div>\n",
       "<style scoped>\n",
       "    .dataframe tbody tr th:only-of-type {\n",
       "        vertical-align: middle;\n",
       "    }\n",
       "\n",
       "    .dataframe tbody tr th {\n",
       "        vertical-align: top;\n",
       "    }\n",
       "\n",
       "    .dataframe thead th {\n",
       "        text-align: right;\n",
       "    }\n",
       "</style>\n",
       "<table border=\"1\" class=\"dataframe\">\n",
       "  <thead>\n",
       "    <tr style=\"text-align: right;\">\n",
       "      <th></th>\n",
       "      <th>Type</th>\n",
       "    </tr>\n",
       "    <tr>\n",
       "      <th>Sample</th>\n",
       "      <th></th>\n",
       "    </tr>\n",
       "  </thead>\n",
       "  <tbody>\n",
       "    <tr>\n",
       "      <th>WT_rep04</th>\n",
       "      <td>WT</td>\n",
       "    </tr>\n",
       "    <tr>\n",
       "      <th>WT_rep01</th>\n",
       "      <td>WT</td>\n",
       "    </tr>\n",
       "    <tr>\n",
       "      <th>WT_rep02</th>\n",
       "      <td>WT</td>\n",
       "    </tr>\n",
       "    <tr>\n",
       "      <th>WT_rep03</th>\n",
       "      <td>WT</td>\n",
       "    </tr>\n",
       "    <tr>\n",
       "      <th>Snf2_rep04</th>\n",
       "      <td>Snf2</td>\n",
       "    </tr>\n",
       "    <tr>\n",
       "      <th>Snf2_rep01</th>\n",
       "      <td>Snf2</td>\n",
       "    </tr>\n",
       "    <tr>\n",
       "      <th>Snf2_rep02</th>\n",
       "      <td>Snf2</td>\n",
       "    </tr>\n",
       "    <tr>\n",
       "      <th>Snf2_rep03</th>\n",
       "      <td>Snf2</td>\n",
       "    </tr>\n",
       "  </tbody>\n",
       "</table>\n",
       "</div>"
      ],
      "text/plain": [
       "            Type\n",
       "Sample          \n",
       "WT_rep04      WT\n",
       "WT_rep01      WT\n",
       "WT_rep02      WT\n",
       "WT_rep03      WT\n",
       "Snf2_rep04  Snf2\n",
       "Snf2_rep01  Snf2\n",
       "Snf2_rep02  Snf2\n",
       "Snf2_rep03  Snf2"
      ]
     },
     "execution_count": 45,
     "metadata": {},
     "output_type": "execute_result"
    }
   ],
   "source": [
    "metadata = metadata.set_index('Sample')\n",
    "\n",
    "metadata"
   ]
  },
  {
   "cell_type": "markdown",
   "id": "f2cadf91",
   "metadata": {},
   "source": [
    "We can now merge the transposed dataframe and the metadata."
   ]
  },
  {
   "cell_type": "code",
   "execution_count": 46,
   "id": "4cf5e6ad",
   "metadata": {},
   "outputs": [
    {
     "data": {
      "text/html": [
       "<div>\n",
       "<style scoped>\n",
       "    .dataframe tbody tr th:only-of-type {\n",
       "        vertical-align: middle;\n",
       "    }\n",
       "\n",
       "    .dataframe tbody tr th {\n",
       "        vertical-align: top;\n",
       "    }\n",
       "\n",
       "    .dataframe thead th {\n",
       "        text-align: right;\n",
       "    }\n",
       "</style>\n",
       "<table border=\"1\" class=\"dataframe\">\n",
       "  <thead>\n",
       "    <tr style=\"text-align: right;\">\n",
       "      <th></th>\n",
       "      <th>15S_rRNA</th>\n",
       "      <th>21S_rRNA</th>\n",
       "      <th>HRA1</th>\n",
       "      <th>ICR1</th>\n",
       "      <th>LSR1</th>\n",
       "      <th>NME1</th>\n",
       "      <th>PWR1</th>\n",
       "      <th>Q0010</th>\n",
       "      <th>Q0017</th>\n",
       "      <th>Q0032</th>\n",
       "      <th>...</th>\n",
       "      <th>tY(GUA)M1</th>\n",
       "      <th>tY(GUA)M2</th>\n",
       "      <th>tY(GUA)O</th>\n",
       "      <th>tY(GUA)Q</th>\n",
       "      <th>no_feature</th>\n",
       "      <th>ambiguous</th>\n",
       "      <th>too_low_aQual</th>\n",
       "      <th>not_aligned</th>\n",
       "      <th>alignment_not_unique</th>\n",
       "      <th>Type</th>\n",
       "    </tr>\n",
       "  </thead>\n",
       "  <tbody>\n",
       "    <tr>\n",
       "      <th>WT_rep04</th>\n",
       "      <td>8</td>\n",
       "      <td>99</td>\n",
       "      <td>2</td>\n",
       "      <td>157</td>\n",
       "      <td>163</td>\n",
       "      <td>13</td>\n",
       "      <td>0</td>\n",
       "      <td>0</td>\n",
       "      <td>0</td>\n",
       "      <td>0</td>\n",
       "      <td>...</td>\n",
       "      <td>1</td>\n",
       "      <td>0</td>\n",
       "      <td>0</td>\n",
       "      <td>0</td>\n",
       "      <td>889880</td>\n",
       "      <td>885758</td>\n",
       "      <td>0</td>\n",
       "      <td>0</td>\n",
       "      <td>0</td>\n",
       "      <td>WT</td>\n",
       "    </tr>\n",
       "    <tr>\n",
       "      <th>WT_rep01</th>\n",
       "      <td>2</td>\n",
       "      <td>20</td>\n",
       "      <td>3</td>\n",
       "      <td>75</td>\n",
       "      <td>60</td>\n",
       "      <td>13</td>\n",
       "      <td>0</td>\n",
       "      <td>0</td>\n",
       "      <td>0</td>\n",
       "      <td>0</td>\n",
       "      <td>...</td>\n",
       "      <td>0</td>\n",
       "      <td>0</td>\n",
       "      <td>0</td>\n",
       "      <td>0</td>\n",
       "      <td>409051</td>\n",
       "      <td>511292</td>\n",
       "      <td>0</td>\n",
       "      <td>0</td>\n",
       "      <td>0</td>\n",
       "      <td>WT</td>\n",
       "    </tr>\n",
       "    <tr>\n",
       "      <th>WT_rep02</th>\n",
       "      <td>12</td>\n",
       "      <td>76</td>\n",
       "      <td>2</td>\n",
       "      <td>123</td>\n",
       "      <td>163</td>\n",
       "      <td>14</td>\n",
       "      <td>0</td>\n",
       "      <td>0</td>\n",
       "      <td>0</td>\n",
       "      <td>0</td>\n",
       "      <td>...</td>\n",
       "      <td>0</td>\n",
       "      <td>0</td>\n",
       "      <td>0</td>\n",
       "      <td>0</td>\n",
       "      <td>705266</td>\n",
       "      <td>644560</td>\n",
       "      <td>0</td>\n",
       "      <td>0</td>\n",
       "      <td>0</td>\n",
       "      <td>WT</td>\n",
       "    </tr>\n",
       "    <tr>\n",
       "      <th>WT_rep03</th>\n",
       "      <td>31</td>\n",
       "      <td>101</td>\n",
       "      <td>2</td>\n",
       "      <td>107</td>\n",
       "      <td>233</td>\n",
       "      <td>23</td>\n",
       "      <td>0</td>\n",
       "      <td>0</td>\n",
       "      <td>0</td>\n",
       "      <td>0</td>\n",
       "      <td>...</td>\n",
       "      <td>1</td>\n",
       "      <td>1</td>\n",
       "      <td>0</td>\n",
       "      <td>0</td>\n",
       "      <td>571431</td>\n",
       "      <td>734023</td>\n",
       "      <td>0</td>\n",
       "      <td>0</td>\n",
       "      <td>0</td>\n",
       "      <td>WT</td>\n",
       "    </tr>\n",
       "    <tr>\n",
       "      <th>Snf2_rep04</th>\n",
       "      <td>5</td>\n",
       "      <td>44</td>\n",
       "      <td>1</td>\n",
       "      <td>252</td>\n",
       "      <td>260</td>\n",
       "      <td>41</td>\n",
       "      <td>0</td>\n",
       "      <td>0</td>\n",
       "      <td>0</td>\n",
       "      <td>0</td>\n",
       "      <td>...</td>\n",
       "      <td>0</td>\n",
       "      <td>0</td>\n",
       "      <td>0</td>\n",
       "      <td>0</td>\n",
       "      <td>955003</td>\n",
       "      <td>821933</td>\n",
       "      <td>0</td>\n",
       "      <td>0</td>\n",
       "      <td>0</td>\n",
       "      <td>Snf2</td>\n",
       "    </tr>\n",
       "    <tr>\n",
       "      <th>Snf2_rep01</th>\n",
       "      <td>4</td>\n",
       "      <td>31</td>\n",
       "      <td>5</td>\n",
       "      <td>205</td>\n",
       "      <td>210</td>\n",
       "      <td>32</td>\n",
       "      <td>0</td>\n",
       "      <td>0</td>\n",
       "      <td>0</td>\n",
       "      <td>0</td>\n",
       "      <td>...</td>\n",
       "      <td>0</td>\n",
       "      <td>0</td>\n",
       "      <td>0</td>\n",
       "      <td>0</td>\n",
       "      <td>888995</td>\n",
       "      <td>730793</td>\n",
       "      <td>0</td>\n",
       "      <td>0</td>\n",
       "      <td>0</td>\n",
       "      <td>Snf2</td>\n",
       "    </tr>\n",
       "    <tr>\n",
       "      <th>Snf2_rep02</th>\n",
       "      <td>2</td>\n",
       "      <td>18</td>\n",
       "      <td>1</td>\n",
       "      <td>196</td>\n",
       "      <td>103</td>\n",
       "      <td>20</td>\n",
       "      <td>0</td>\n",
       "      <td>0</td>\n",
       "      <td>0</td>\n",
       "      <td>0</td>\n",
       "      <td>...</td>\n",
       "      <td>0</td>\n",
       "      <td>0</td>\n",
       "      <td>1</td>\n",
       "      <td>0</td>\n",
       "      <td>641333</td>\n",
       "      <td>665470</td>\n",
       "      <td>0</td>\n",
       "      <td>0</td>\n",
       "      <td>0</td>\n",
       "      <td>Snf2</td>\n",
       "    </tr>\n",
       "    <tr>\n",
       "      <th>Snf2_rep03</th>\n",
       "      <td>5</td>\n",
       "      <td>23</td>\n",
       "      <td>3</td>\n",
       "      <td>211</td>\n",
       "      <td>159</td>\n",
       "      <td>17</td>\n",
       "      <td>0</td>\n",
       "      <td>0</td>\n",
       "      <td>0</td>\n",
       "      <td>0</td>\n",
       "      <td>...</td>\n",
       "      <td>1</td>\n",
       "      <td>0</td>\n",
       "      <td>0</td>\n",
       "      <td>0</td>\n",
       "      <td>544060</td>\n",
       "      <td>709428</td>\n",
       "      <td>0</td>\n",
       "      <td>0</td>\n",
       "      <td>0</td>\n",
       "      <td>Snf2</td>\n",
       "    </tr>\n",
       "  </tbody>\n",
       "</table>\n",
       "<p>8 rows × 7132 columns</p>\n",
       "</div>"
      ],
      "text/plain": [
       "            15S_rRNA  21S_rRNA  HRA1  ICR1  LSR1  NME1  PWR1  Q0010  Q0017  \\\n",
       "WT_rep04           8        99     2   157   163    13     0      0      0   \n",
       "WT_rep01           2        20     3    75    60    13     0      0      0   \n",
       "WT_rep02          12        76     2   123   163    14     0      0      0   \n",
       "WT_rep03          31       101     2   107   233    23     0      0      0   \n",
       "Snf2_rep04         5        44     1   252   260    41     0      0      0   \n",
       "Snf2_rep01         4        31     5   205   210    32     0      0      0   \n",
       "Snf2_rep02         2        18     1   196   103    20     0      0      0   \n",
       "Snf2_rep03         5        23     3   211   159    17     0      0      0   \n",
       "\n",
       "            Q0032  ...  tY(GUA)M1  tY(GUA)M2  tY(GUA)O  tY(GUA)Q  no_feature  \\\n",
       "WT_rep04        0  ...          1          0         0         0      889880   \n",
       "WT_rep01        0  ...          0          0         0         0      409051   \n",
       "WT_rep02        0  ...          0          0         0         0      705266   \n",
       "WT_rep03        0  ...          1          1         0         0      571431   \n",
       "Snf2_rep04      0  ...          0          0         0         0      955003   \n",
       "Snf2_rep01      0  ...          0          0         0         0      888995   \n",
       "Snf2_rep02      0  ...          0          0         1         0      641333   \n",
       "Snf2_rep03      0  ...          1          0         0         0      544060   \n",
       "\n",
       "            ambiguous  too_low_aQual  not_aligned  alignment_not_unique  Type  \n",
       "WT_rep04       885758              0            0                     0    WT  \n",
       "WT_rep01       511292              0            0                     0    WT  \n",
       "WT_rep02       644560              0            0                     0    WT  \n",
       "WT_rep03       734023              0            0                     0    WT  \n",
       "Snf2_rep04     821933              0            0                     0  Snf2  \n",
       "Snf2_rep01     730793              0            0                     0  Snf2  \n",
       "Snf2_rep02     665470              0            0                     0  Snf2  \n",
       "Snf2_rep03     709428              0            0                     0  Snf2  \n",
       "\n",
       "[8 rows x 7132 columns]"
      ]
     },
     "execution_count": 46,
     "metadata": {},
     "output_type": "execute_result"
    }
   ],
   "source": [
    "transposed_df = pd.concat([transposed_df, metadata], axis=1)\n",
    "\n",
    "transposed_df"
   ]
  },
  {
   "cell_type": "markdown",
   "id": "bb9b7eee",
   "metadata": {},
   "source": [
    "Now that we have metadata in our dataframe, we can use the `groupby()` function for our boxplots to split the boxplots by condition."
   ]
  },
  {
   "cell_type": "code",
   "execution_count": 47,
   "id": "b9649c33",
   "metadata": {},
   "outputs": [
    {
     "data": {
      "image/png": "[encoded data removed]",
      "text/plain": [
       "<Figure size 640x480 with 4 Axes>"
      ]
     },
     "metadata": {},
     "output_type": "display_data"
    }
   ],
   "source": [
    "boxplot = transposed_df.boxplot(column=['LSR1', 'NME1', 'PWR1'], by='Type')\n",
    "plt.show()"
   ]
  },
  {
   "cell_type": "markdown",
   "id": "2308d485",
   "metadata": {},
   "source": [
    "These are just some basic functions and possibilities to have a first look at your data. Maybe you already have some genes of interest you want to have a look at, so this might be a way for a first peak."
   ]
  },
  {
   "cell_type": "markdown",
   "id": "f7b133bd",
   "metadata": {},
   "source": [
    "# 3.6 Further Data Analysis\n",
    "\n",
    "Following the import of your transcriptomic data and a first glance using basic plotting, you can explore your data using a big number of methods. \n",
    "\n",
    "Here we just want to give you a short view of further steps you can take with some tutorials you can follow: \n",
    "\n",
    "**1. Principle Component Analysis:**\n",
    "\n",
    "A PCA can give you an overview over your data which can cluster similar data points based on the correlation between them without any supervision. For a transcriptomics experiement you would expect your different conditions to cluster together. If they cluster differently, their might be an underlying problem with your data you need to explore before further analysis.\n",
    "\n",
    "Tutorial: https://www.datacamp.com/tutorial/principal-component-analysis-in-python\n",
    "\n",
    "**2. Differential Gene Expression**\n",
    "\n",
    "Statistical analysis of the differential gene expression between your conditions. \n",
    "\n",
    "Tutorial and python package: https://pydeseq2.readthedocs.io/en/stable/auto_examples/plot_step_by_step.html#sphx-glr-auto-examples-plot-step-by-step-py"
   ]
  }
 ],
 "metadata": {
  "kernelspec": {
   "display_name": "base",
   "language": "python",
   "name": "python3"
  },
  "language_info": {
   "codemirror_mode": {
    "name": "ipython",
    "version": 3
   },
   "file_extension": ".py",
   "mimetype": "text/x-python",
   "name": "python",
   "nbconvert_exporter": "python",
   "pygments_lexer": "ipython3",
   "version": "3.13.2"
  }
 },
 "nbformat": 4,
 "nbformat_minor": 5
}
