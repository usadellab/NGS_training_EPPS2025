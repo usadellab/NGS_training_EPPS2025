{
  "cells": [
    {
      "id": "e932906b-7170-4f3b-b2b5-5d9c7921a91e",
      "cell_type": "markdown",
      "metadata": {},
      "source": [
        "# Part 2: RNA-seq Differential Expression Analysis"
      ]
    },
    {
      "id": "2184e9c7-f58c-4a34-a131-7b003a3d5e21",
      "cell_type": "markdown",
      "metadata": {},
      "source": [
        "**Welcome back!** In this notebook, we will take the clean, prepared data from Part 1 and perform a full differential gene expression analysis. This will allow us to identify which genes are changing their expression levels in the `hy5` mutant compared to the wild-type plants."
      ]
    },
    {
      "id": "31b0a880-6078-4e3f-893f-c56784d6b5e1",
      "cell_type": "markdown",
      "metadata": {},
      "source": [
        "## 1. Setting Up Our Analysis Environment"
      ]
    },
    {
      "id": "67a57a16-2d17-4e6f-96a8-b61e2f9d3753",
      "cell_type": "markdown",
      "metadata": {},
      "source": [
        "We'll start by importing the necessary libraries for our statistical analysis and visualization."
      ]
    },
    {
      "id": "42661c92-d34e-4f74-b806-444f2e960305",
      "cell_type": "code",
      "metadata": {},
      "source": [
        "import pandas as pd",
        "import numpy as np",
        "import matplotlib.pyplot as plt",
        "from sklearn.decomposition import PCA",
        "from sklearn.preprocessing import StandardScaler",
        "from pydeseq2.dds import DeseqDataSet",
        "from pydeseq2.ds import DeseqStats",
        "import os",
        "import re",
        "import csv"
      ]
    },
    {
      "id": "8470a256-42b7-4c31-9a74-b9d997235a9d",
      "cell_type": "markdown",
      "metadata": {},
      "source": [
        "## 2. Principal Component Analysis (PCA)"
      ]
    },
    {
      "id": "769d671c-4b5b-4171-8051-512683a48e71",
      "cell_type": "markdown",
      "metadata": {},
      "source": [
        "**Principal Component Analysis (PCA)** is a powerful statistical technique that simplifies complex data. Think of it as finding the most important directions (called **principal components**) in your data that capture the greatest amount of variation. When we apply this to our RNA-seq data, it helps us visualize our samples and understand the main factors driving gene expression differences, like the genotype."
      ]
    },
    {
      "id": "2701b7a2-f673-4537-8812-70b55edb846e",
      "cell_type": "code",
      "metadata": {},
      "source": [
        "# Load data that was cleaned in Part 1\n",
        "counts_df = pd.read_csv('gene_counts.txt', sep='\\t', index_col=0, header=0, comment='#')\n",
        "metadata_df = pd.read_csv('metadata.csv', index_col=0)\n",
        "\n",
        "# Perform the same cleaning steps from Part 1\n",
        "counts_df = counts_df.drop(columns=['Chr', 'Start', 'End', 'Strand', 'Length'])\n",
        "summary_rows = ['Unassigned_Unmapped', 'Unassigned_Read_Type', 'Unassigned_Singleton', 'Unassigned_MappingQuality', 'Unassigned_Chimera', 'Unassigned_FragmentLength', 'Unassigned_Duplicate', 'Unassigned_MultiMapping', 'Unassigned_Secondary', 'Unassigned_NonSplit', 'Unassigned_NoFeatures', 'Unassigned_Overlapping_Length', 'Unassigned_Ambiguity']\n",
        "counts_df = counts_df.loc[~counts_df.index.isin(summary_rows)]\n",
        "counts_df.columns = [os.path.basename(col).replace('_Aligned.sortedByCoord.out.bam', '') for col in counts_df.columns]\n",
        "counts_df = counts_df.T\n",
        "\n",
        "# Ensure sample order matches between counts and metadata\n",
        "if not all(counts_df.index == metadata_df.index):\n",
        "    counts_df = counts_df.loc[metadata_df.index]\n",
        "\n",
        "# Data normalization is crucial for PCA. We'll use log-transformation and then scale.\n",
        "# Add a small pseudo-count to avoid log(0).\n",
        "counts_normalized = np.log2(counts_df + 1)\n",
        "\n",
        "# Standardize the data so each gene has a mean of 0 and a standard deviation of 1.\n",
        "scaler = StandardScaler()\n",
        "counts_scaled = scaler.fit_transform(counts_normalized)\n",
        "\n",
        "# Perform PCA with 2 components for plotting\n",
        "pca = PCA(n_components=2)\n",
        "principal_components = pca.fit_transform(counts_scaled)\n",
        "\n",
        "# Create a DataFrame for the principal components\n",
        "pca_df = pd.DataFrame(data=principal_components, columns=['PC1', 'PC2'], index=metadata_df.index)\n",
        "pca_df['genotype'] = metadata_df['genotype']\n",
        "\n",
        "# Calculate the explained variance ratio for each component\n",
        "explained_variance = pca.explained_variance_ratio_"
      ]
    },
    {
      "id": "e2101e14-e53f-42e1-8844-4b5a32490333",
      "cell_type": "markdown",
      "metadata": {},
      "source": [
        "### Exercise: Interpreting the PCA Plot\n\nRun the code below to generate the PCA plot. What do the results tell you about your samples? Do the replicates for each genotype cluster together? "
      ]
    },
    {
      "id": "60e181e1-e613-4138-8c1d-192562479493",
      "cell_type": "code",
      "metadata": {},
      "source": [
        "# Set up the plot\n",
        "fig, ax = plt.subplots(figsize=(8, 8))\n",
        "genotypes = pca_df['genotype'].unique()\n",
        "\n",
        "# Assign a color and marker for each genotype\n",
        "colors = ['red', 'blue']\n",
        "markers = ['o', 's']\n",
        "\n",
        "# Plot the data points\n",
        "for i, genotype in enumerate(genotypes):\n",
        "    subset = pca_df[pca_df['genotype'] == genotype]\n",
        "    ax.scatter(subset['PC1'], subset['PC2'],\n",
        "               color=colors[i], marker=markers[i], s=100, label=genotype)\n",
        "\n",
        "# Add labels and a title\n",
        "ax.set_xlabel(f\"Principal Component 1 ({explained_variance[0]*100:.2f}%)\")\n",
        "ax.set_ylabel(f\"Principal Component 2 ({explained_variance[1]*100:.2f}%)\")\n",
        "ax.set_title(\"PCA of RNA-seq Samples\")\n",
        "ax.legend()\n",
        "ax.grid(True, linestyle='--', alpha=0.6)\n",
        "\n",
        "# Show the plot\n",
        "plt.show()"
      ]
    },
    {
      "id": "18f2d591-381c-4279-99f6-0684fce01c45",
      "cell_type": "markdown",
      "metadata": {},
      "source": [
        "---"
      ]
    },
    {
      "id": "527c9443-419b-4e0e-8f5b-9d4122d25036",
      "cell_type": "markdown",
      "metadata": {},
      "source": [
        "## 3. Differential Expression Analysis with PyDESeq2"
      ]
    },
    {
      "id": "1d81a8b5-555e-49b8-a6d1-432d88151834",
      "cell_type": "markdown",
      "metadata": {},
      "source": [
        "Now for the core of our analysis! We will use the `pydeseq2` library to identify genes that are significantly up- or down-regulated between the `hy5` mutant and the wild-type. "
      ]
    },
    {
      "id": "5c68f276-8802-46a2-a9b3-4f9e31d4e022",
      "cell_type": "code",
      "metadata": {},
      "source": [
        "# Create the DeseqDataSet object\n",
        "dds = DeseqDataSet(\n",
        "    counts=counts_df,\n",
        "    metadata=metadata_df,\n",
        "    design='~genotype',\n",
        "    refit_cooks=True\n",
        ")\n",
        "\n",
        "# Run the full PyDESeq2 pipeline\n",
        "dds.deseq2()\n",
        "\n",
        "# Get the results for the contrast 'hy5' vs 'Col-0'\n",
        "stat_results = DeseqStats(dds, contrast=['genotype', 'hy5', 'Col-0'])\n",
        "stat_results.run_wald_test()\n",
        "stat_results.summary()\n",
        "results_df = stat_results.results_df\n",
        "\n",
        "# Save the results for advanced analysis later\n",
        "results_df.to_csv('analysis_results.csv')"
      ]
    },
    {
      "id": "369f6645-12d4-4a47-a87f-d51d5306d1a6",
      "cell_type": "markdown",
      "metadata": {},
      "source": [
        "### DGE Explained: Significance and Fold Change\n",
        "\n",
        "-   **Significance (Adjusted p-value):** The p-value is the probability that we would observe our data if there were truly no difference between the two groups. In DGE, we test thousands of genes, so we use the **adjusted p-value** (or FDR) to correct for this. We typically use a cutoff like `padj < 0.05` to identify genes with a statistically significant change in expression.\n",
        "\n",
        "-   **Fold Change (log2FoldChange):** This value tells you the magnitude and direction of the change. A `log2FoldChange` of 1 means a gene is expressed 2 times more, and a value of -1 means it is expressed 2 times less. A value of 0 means no change. We often use a cutoff like `abs(log2FoldChange) > 1` to find biologically meaningful changes."
      ]
    },
    {
      "id": "d0f1990c-03c6-43b6-96b6-3982e0227183",
      "cell_type": "code",
      "metadata": {},
      "source": [
        "# Your solution here"
      ]
    },
    {
      "id": "2286b595-6548-4a6c-9226-c22f038f972b",
      "cell_type": "code",
      "metadata": {},
      "source": [
        "# A possible solution\n",
        "padj_cutoff = 0.05\n",
        "lfc_cutoff = 1\n",
        "\n",
        "significant_genes = results_df[\n",
        "    (results_df['padj'] < padj_cutoff) & \n",
        "    (abs(results_df['log2FoldChange']) > lfc_cutoff)\n",
        "]\n",
        "\n",
        "print(f\"Found {len(significant_genes)} significant genes.\")"
      ]
    },
    {
      "id": "93683a45-6a58-45e0-82d2-8b4e470878a9",
      "cell_type": "markdown",
      "metadata": {},
      "source": [
        "---"
      ]
    },
    {
      "id": "f5832a83-a9d7-418f-a496-e616f7216d7a",
      "cell_type": "markdown",
      "metadata": {},
      "source": [
        "## 4. Advanced Analysis and Interpretation"
      ]
    },
    {
      "id": "e0e2417b-d9d1-419b-a36c-92b0c3f5906d",
      "cell_type": "markdown",
      "metadata": {},
      "source": [
        "### 4a. Annotating and Visualizing Top Genes\n\nTo make our results interpretable, we will first load our annotation file (`Arabidopsis_thaliana.TAIR10.61.gff3`), extract the gene names, and use this information to create a bar chart of the top 20 most significant genes. "
      ]
    },
    {
      "id": "c16117c4-54c3-4d43-97ae-3f8d6896263e",
      "cell_type": "code",
      "metadata": {},
      "source": [
        "def get_annotations_from_gff3(gff3_path):\n",
        "    \"\"\"Parses a GFF3 file and returns a DataFrame with gene annotations.\"\"\"\n",
        "    annotations = {}\n",
        "    with open(gff3_path, 'r') as f:\n",
        "        reader = csv.reader(f, delimiter='\\t')\n",
        "        for row in reader:\n",
        "            if row[0].startswith('#'):\n",
        "                continue\n",
        "            if len(row) > 2 and row[2] == 'gene':\n",
        "                attributes = row[8]\n",
        "                gene_id = None\n",
        "                gene_symbol = None\n",
        "                id_match = re.search(r'ID=(gene:.*?);', attributes)\n",
        "                name_match = re.search(r'Name=(.*?);', attributes)\n",
        "                if id_match:\n",
        "                    gene_id = id_match.group(1)\n",
        "                if name_match:\n",
        "                    gene_symbol = name_match.group(1)\n",
        "                if gene_id:\n",
        "                    annotations[gene_id] = {'symbol': gene_symbol}\n",
        "    return pd.DataFrame.from_dict(annotations, orient='index')\n",
        "\n",
        "results_df = pd.read_csv('analysis_results.csv', index_col=0)\n",
        "gff3_path = 'Arabidopsis_thaliana.TAIR10.61.gff3'\n",
        "annotation_df = get_annotations_from_gff3(gff3_path)\n",
        "annotated_significant_genes = results_df.join(annotation_df, how='left')\n",
        "\n",
        "padj_cutoff = 0.05\n",
        "lfc_cutoff = 1\n",
        "\n",
        "top_upregulated = annotated_significant_genes[annotated_significant_genes['log2FoldChange'] > 0].head(10)\n",
        "top_downregulated = annotated_significant_genes[annotated_significant_genes['log2FoldChange'] < 0].head(10)\n",
        "top_genes_for_plot = pd.concat([top_upregulated, top_downregulated])\n",
        "\n",
        "gene_labels = top_genes_for_plot['symbol'].fillna(pd.Series(top_genes_for_plot.index).str.replace('gene:', '')).tolist()\n",
        "\n",
        "fig, ax = plt.subplots(figsize=(12, 8))\n",
        "ax.barh(gene_labels, top_genes_for_plot['log2FoldChange'], color=['red' if fc > 0 else 'blue' for fc in top_genes_for_plot['log2FoldChange']])\n",
        "ax.set_xlabel('Log2 Fold Change')\n",
        "ax.set_title('Top 10 Up- and Downregulated Genes (hy5 vs Col-0)')\n",
        "ax.grid(axis='x', linestyle='--', alpha=0.6)\n",
        "plt.tight_layout()\n",
        "plt.show()"
      ]
    },
    {
      "id": "a9b407a1-8d25-4554-b49d-3f0e0811e51b",
      "cell_type": "markdown",
      "metadata": {},
      "source": [
        "### 4b. Functional Enrichment Analysis\n\nNow that we have our lists of up- and downregulated genes, we want to understand their collective biological function. This process is called **Functional Enrichment Analysis**, which identifies if certain biological terms (e.g., pathways, functions) are overrepresented in your gene lists.\n\nWe will use the **PANTHER Classification System**, a free online tool, to perform this. You will use the lists of genes we created below to find enriched functions. Here's a quick guide on how to use the tool and interpret your results.\n\n1.  **Prepare your gene lists**: The code below saves your significant genes to two text files, `upregulated_genes.txt` and `downregulated_genes.txt`.\n2.  **Go to the PANTHER website**: Open the [PANTHER Overrepresentation Test](http://www.pantherdb.org/tools/upload.do) in your browser.\n3.  **Upload your list**: Copy the contents of one of the `.txt` files and paste it into the query list box on the website. Be sure to select *Arabidopsis thaliana* as the organism.\n4.  **Interpret the results**: The results table will show you which Gene Ontology (GO) terms are significantly enriched. Look for terms with a low p-value (e.g., `< 0.05`). The bar chart on the website will provide a nice visualization of these results. "
      ]
    },
    {
      "id": "e4f9b8c3-f01f-4f6c-8a1d-2f08518861e2",
      "cell_type": "code",
      "metadata": {},
      "source": [
        "upregulated_genes_list = annotated_significant_genes[annotated_significant_genes['log2FoldChange'] > 0].index.tolist()\n",
        "downregulated_genes_list = annotated_significant_genes[annotated_significant_genes['log2FoldChange'] < 0].index.tolist()\n",
        "\n",
        "with open('upregulated_genes.txt', 'w') as f:\n",
        "    for gene in upregulated_genes_list:\n",
        "        f.write(f\"{gene}\\n\")\n",
        "\n",
        "with open('downregulated_genes.txt', 'w') as f:\n",
        "    for gene in downregulated_genes_list:\n",
        "        f.write(f\"{gene}\\n\")\n",
        "\n",
        "print(f\"Upregulated gene list saved to 'upregulated_genes.txt' ({len(upregulated_genes_list)} genes).\")\n",
        "print(f\"Downregulated gene list saved to 'downregulated_genes.txt' ({len(downregulated_genes_list)} genes).\")"
      ]
    },
    {
      "id": "2703f8a4-0a37-4d6b-80a5-2638a16104c8",
      "cell_type": "markdown",
      "metadata": {},
      "source": [
        "---"
      ]
    }
  ],
  "metadata": {
    "kernelspec": {
      "display_name": "Python 3",
      "language": "python",
      "name": "python3"
    },
    "language_info": {
      "codemirror_mode": {
        "name": "ipython",
        "version": 3
      },
      "file_extension": ".py",
      "mimetype": "text/x-python",
      "name": "python",
      "nbconvert_exporter": "python",
      "pygments_lexer": "ipython3",
      "version": "3.10.17"
    }
  },
  "nbformat": 4,
  "nbformat_minor": 4
}