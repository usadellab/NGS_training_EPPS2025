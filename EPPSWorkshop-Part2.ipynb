{
  "metadata": {
    "kernelspec": {
      "name": "python",
      "display_name": "Python (Pyodide)",
      "language": "python"
    },
    "language_info": {
      "codemirror_mode": {
        "name": "python",
        "version": 3
      },
      "file_extension": ".py",
      "mimetype": "text/x-python",
      "name": "python",
      "nbconvert_exporter": "python",
      "pygments_lexer": "ipython3",
      "version": "3.8"
    }
  },
  "nbformat_minor": 5,
  "nbformat": 4,
  "cells": [
    {
      "id": "27544edf-7d32-438d-8315-f3264f352d86",
      "cell_type": "markdown",
      "source": "# Part 2: RNA-seq Differential Expression Analysis",
      "metadata": {}
    },
    {
      "id": "8a6ad63e-249a-4078-8df9-3ca6adc41e5f",
      "cell_type": "markdown",
      "source": "**Welcome back!** In this notebook, we will take the clean, prepared data from Part 1 and perform a full differential gene expression analysis. This will allow us to identify which genes are changing their expression levels in the `hy5` mutant compared to the wild-type plants.",
      "metadata": {}
    },
    {
      "id": "f4787cb7-72d9-40c3-91c9-afbe43915394",
      "cell_type": "markdown",
      "source": "## 1. Setting Up Our Analysis Environment",
      "metadata": {}
    },
    {
      "id": "ac6f3a8c-53bc-4a0f-b9fa-d2357745faa4",
      "cell_type": "markdown",
      "source": "We'll start by importing the necessary libraries for our statistical analysis and visualization.",
      "metadata": {}
    },
    {
      "id": "d2f37b44-8f13-40ce-92c4-4b2b033cdae6",
      "cell_type": "code",
      "source": "import pandas as pd\nimport numpy as np\nimport matplotlib.pyplot as plt\nfrom sklearn.decomposition import PCA\nfrom sklearn.preprocessing import StandardScaler\nfrom pydeseq2.dds import DeseqDataSet\nfrom pydeseq2.ds import DeseqStats\nimport os\nimport re\nimport csv",
      "metadata": {
        "trusted": true
      },
      "outputs": [],
      "execution_count": null
    },
    {
      "id": "6a543b18-9e81-4c3f-a61f-49ff4cac0bc3",
      "cell_type": "markdown",
      "source": "## 2. Principal Component Analysis (PCA)",
      "metadata": {}
    },
    {
      "id": "c66bb34a-98f9-4fbe-95e1-648f9e8d6419",
      "cell_type": "markdown",
      "source": "**Principal Component Analysis (PCA)** is a powerful statistical technique that simplifies complex data. Think of it as finding the most important directions (called **principal components**) in your data that capture the greatest amount of variation. When we apply this to our RNA-seq data, it helps us visualize our samples and understand the main factors driving gene expression differences, like the genotype.",
      "metadata": {}
    },
    {
      "id": "5095af48-b026-4c39-9266-fda6ff78ab98",
      "cell_type": "code",
      "source": "# Load data that was cleaned in Part 1\ncounts_df = pd.read_csv('gene_counts.txt', sep='\\t', index_col=0, header=0, comment='#')\nmetadata_df = pd.read_csv('metadata.csv', index_col=0)\n\n# Perform the same cleaning steps from Part 1\ncounts_df = counts_df.drop(columns=['Chr', 'Start', 'End', 'Strand', 'Length'])\nsummary_rows = ['Unassigned_Unmapped', 'Unassigned_Read_Type', 'Unassigned_Singleton', 'Unassigned_MappingQuality', 'Unassigned_Chimera', 'Unassigned_FragmentLength', 'Unassigned_Duplicate', 'Unassigned_MultiMapping', 'Unassigned_Secondary', 'Unassigned_NonSplit', 'Unassigned_NoFeatures', 'Unassigned_Overlapping_Length', 'Unassigned_Ambiguity']\ncounts_df = counts_df.loc[~counts_df.index.isin(summary_rows)]\ncounts_df.columns = [os.path.basename(col).replace('_Aligned.sortedByCoord.out.bam', '') for col in counts_df.columns]\ncounts_df = counts_df.T\n\n# Ensure sample order matches between counts and metadata\nif not all(counts_df.index == metadata_df.index):\n    counts_df = counts_df.loc[metadata_df.index]\n\n# Data normalization is crucial for PCA. We'll use log-transformation and then scale.\n# Add a small pseudo-count to avoid log(0).\ncounts_normalized = np.log2(counts_df + 1)\n\n# Standardize the data so each gene has a mean of 0 and a standard deviation of 1.\nscaler = StandardScaler()\ncounts_scaled = scaler.fit_transform(counts_normalized)\n\n# Perform PCA with 2 components for plotting\npca = PCA(n_components=2)\nprincipal_components = pca.fit_transform(counts_scaled)\n\n# Create a DataFrame for the principal components\npca_df = pd.DataFrame(data=principal_components, columns=['PC1', 'PC2'], index=metadata_df.index)\npca_df['genotype'] = metadata_df['genotype']\n\n# Calculate the explained variance ratio for each component\nexplained_variance = pca.explained_variance_ratio_",
      "metadata": {
        "trusted": true
      },
      "outputs": [],
      "execution_count": null
    },
    {
      "id": "44b78ce0-fbd2-4f4b-ba2a-53d3334b8fed",
      "cell_type": "markdown",
      "source": "### Exercise: Interpreting the PCA Plot\n\nRun the code below to generate the PCA plot. What do the results tell you about your samples? Do the replicates for each genotype cluster together? ",
      "metadata": {}
    },
    {
      "id": "ec0988bc-c23d-4702-9952-aee3bace82bb",
      "cell_type": "code",
      "source": "# Set up the plot\nfig, ax = plt.subplots(figsize=(8, 8))\ngenotypes = pca_df['genotype'].unique()\n\n# Assign a color and marker for each genotype\ncolors = ['red', 'blue']\nmarkers = ['o', 's']\n\n# Plot the data points\nfor i, genotype in enumerate(genotypes):\n    subset = pca_df[pca_df['genotype'] == genotype]\n    ax.scatter(subset['PC1'], subset['PC2'],\n               color=colors[i], marker=markers[i], s=100, label=genotype)\n\n# Add labels and a title\nax.set_xlabel(f\"Principal Component 1 ({explained_variance[0]*100:.2f}%)\")\nax.set_ylabel(f\"Principal Component 2 ({explained_variance[1]*100:.2f}%)\")\nax.set_title(\"PCA of RNA-seq Samples\")\nax.legend()\nax.grid(True, linestyle='--', alpha=0.6)\n\n# Show the plot\nplt.show()",
      "metadata": {
        "trusted": true
      },
      "outputs": [],
      "execution_count": null
    },
    {
      "id": "449c08c8-f30d-4491-8e17-592edd5e3385",
      "cell_type": "markdown",
      "source": "---",
      "metadata": {}
    },
    {
      "id": "a440b1d6-a237-4787-a4f3-cb2295eb1e71",
      "cell_type": "markdown",
      "source": "## 3. Differential Expression Analysis with PyDESeq2",
      "metadata": {}
    },
    {
      "id": "6299e23d-f3bd-4899-b0fb-3add9c944f5f",
      "cell_type": "markdown",
      "source": "Now for the core of our analysis! We will use the `pydeseq2` library to identify genes that are significantly up- or down-regulated between the `hy5` mutant and the wild-type. ",
      "metadata": {}
    },
    {
      "id": "ce4c1b02-e92a-4124-81a2-6d7fc82af68f",
      "cell_type": "code",
      "source": "# Create the DeseqDataSet object\ndds = DeseqDataSet(\n    counts=counts_df,\n    metadata=metadata_df,\n    design='~genotype',\n    refit_cooks=True\n)\n\n# Run the full PyDESeq2 pipeline\ndds.deseq2()\n\n# Get the results for the contrast 'hy5' vs 'Col-0'\nstat_results = DeseqStats(dds, contrast=['genotype', 'hy5', 'Col-0'])\nstat_results.run_wald_test()\nstat_results.summary()\nresults_df = stat_results.results_df\n\n# Save the results for advanced analysis later\nresults_df.to_csv('analysis_results.csv')",
      "metadata": {
        "trusted": true
      },
      "outputs": [],
      "execution_count": null
    },
    {
      "id": "9711e662-6ae5-489f-b0b3-e5fca8d89087",
      "cell_type": "markdown",
      "source": "### DGE Explained: Significance and Fold Change\n\n-   **Significance (Adjusted p-value):** The p-value is the probability that we would observe our data if there were truly no difference between the two groups. In DGE, we test thousands of genes, so we use the **adjusted p-value** (or FDR) to correct for this. We typically use a cutoff like `padj < 0.05` to identify genes with a statistically significant change in expression.\n\n-   **Fold Change (log2FoldChange):** This value tells you the magnitude and direction of the change. A `log2FoldChange` of 1 means a gene is expressed 2 times more, and a value of -1 means it is expressed 2 times less. A value of 0 means no change. We often use a cutoff like `abs(log2FoldChange) > 1` to find biologically meaningful changes.",
      "metadata": {}
    },
    {
      "id": "5b0355e6-50f2-4679-a875-c3085ea978bf",
      "cell_type": "code",
      "source": "# Your solution here",
      "metadata": {
        "trusted": true
      },
      "outputs": [],
      "execution_count": null
    },
    {
      "id": "e5719f36-b72f-4f52-91f9-6c7d217fcee0",
      "cell_type": "code",
      "source": "# A possible solution\npadj_cutoff = 0.05\nlfc_cutoff = 1\n\nsignificant_genes = results_df[\n    (results_df['padj'] < padj_cutoff) & \n    (abs(results_df['log2FoldChange']) > lfc_cutoff)\n]\n\nprint(f\"Found {len(significant_genes)} significant genes.\")",
      "metadata": {
        "trusted": true
      },
      "outputs": [],
      "execution_count": null
    },
    {
      "id": "9bb7fe7d-15f2-4838-a7af-1ea06de7c996",
      "cell_type": "markdown",
      "source": "---",
      "metadata": {}
    },
    {
      "id": "584c05e3-f6dd-415d-b5b7-046d630927f7",
      "cell_type": "markdown",
      "source": "## 4. Advanced Analysis and Interpretation",
      "metadata": {}
    },
    {
      "id": "393eda7e-9278-4bbd-9d7c-2476cb577d4a",
      "cell_type": "markdown",
      "source": "### 4a. Annotating and Visualizing Top Genes\n\nTo make our results interpretable, we will first load our annotation file (`Arabidopsis_thaliana.TAIR10.61.gff3`), extract the gene names, and use this information to create a bar chart of the top 20 most significant genes. ",
      "metadata": {}
    },
    {
      "id": "5a3b42ab-2230-4f1a-abac-ca7741a9f5b7",
      "cell_type": "code",
      "source": "def get_annotations_from_gff3(gff3_path):\n    \"\"\"Parses a GFF3 file and returns a DataFrame with gene annotations.\"\"\"\n    annotations = {}\n    with open(gff3_path, 'r') as f:\n        reader = csv.reader(f, delimiter='\\t')\n        for row in reader:\n            if row[0].startswith('#'):\n                continue\n            if len(row) > 2 and row[2] == 'gene':\n                attributes = row[8]\n                gene_id = None\n                gene_symbol = None\n                id_match = re.search(r'ID=(gene:.*?);', attributes)\n                name_match = re.search(r'Name=(.*?);', attributes)\n                if id_match:\n                    gene_id = id_match.group(1)\n                if name_match:\n                    gene_symbol = name_match.group(1)\n                if gene_id:\n                    annotations[gene_id] = {'symbol': gene_symbol}\n    return pd.DataFrame.from_dict(annotations, orient='index')\n\nresults_df = pd.read_csv('analysis_results.csv', index_col=0)\ngff3_path = 'Arabidopsis_thaliana.TAIR10.61.gff3'\nannotation_df = get_annotations_from_gff3(gff3_path)\nannotated_significant_genes = results_df.join(annotation_df, how='left')\n\npadj_cutoff = 0.05\nlfc_cutoff = 1\n\ntop_upregulated = annotated_significant_genes[annotated_significant_genes['log2FoldChange'] > 0].head(10)\ntop_downregulated = annotated_significant_genes[annotated_significant_genes['log2FoldChange'] < 0].head(10)\ntop_genes_for_plot = pd.concat([top_upregulated, top_downregulated])\n\ngene_labels = top_genes_for_plot['symbol'].fillna(pd.Series(top_genes_for_plot.index).str.replace('gene:', '')).tolist()\n\nfig, ax = plt.subplots(figsize=(12, 8))\nax.barh(gene_labels, top_genes_for_plot['log2FoldChange'], color=['red' if fc > 0 else 'blue' for fc in top_genes_for_plot['log2FoldChange']])\nax.set_xlabel('Log2 Fold Change')\nax.set_title('Top 10 Up- and Downregulated Genes (hy5 vs Col-0)')\nax.grid(axis='x', linestyle='--', alpha=0.6)\nplt.tight_layout()\nplt.show()",
      "metadata": {
        "trusted": true
      },
      "outputs": [],
      "execution_count": null
    },
    {
      "id": "1fe80ae4-1615-4649-a9a0-4b17d1d35b93",
      "cell_type": "markdown",
      "source": "### 4b. Functional Enrichment Analysis\n\nNow that we have our lists of up- and downregulated genes, we want to understand their collective biological function. This process is called **Functional Enrichment Analysis**, which identifies if certain biological terms (e.g., pathways, functions) are overrepresented in your gene lists.\n\nWe will use the **PANTHER Classification System**, a free online tool, to perform this. You will use the lists of genes we created below to find enriched functions. Here's a quick guide on how to use the tool and interpret your results.\n\n1.  **Prepare your gene lists**: The code below saves your significant genes to two text files, `upregulated_genes.txt` and `downregulated_genes.txt`.\n2.  **Go to the PANTHER website**: Open the [PANTHER Overrepresentation Test](http://www.pantherdb.org/tools/upload.do) in your browser.\n3.  **Upload your list**: Copy the contents of one of the `.txt` files and paste it into the query list box on the website. Be sure to select *Arabidopsis thaliana* as the organism.\n4.  **Interpret the results**: The results table will show you which Gene Ontology (GO) terms are significantly enriched. Look for terms with a low p-value (e.g., `< 0.05`). The bar chart on the website will provide a nice visualization of these results. ",
      "metadata": {}
    },
    {
      "id": "626bde68-e604-4c2f-9697-333bb90ce5bc",
      "cell_type": "code",
      "source": "upregulated_genes_list = annotated_significant_genes[annotated_significant_genes['log2FoldChange'] > 0].index.tolist()\ndownregulated_genes_list = annotated_significant_genes[annotated_significant_genes['log2FoldChange'] < 0].index.tolist()\n\nwith open('upregulated_genes.txt', 'w') as f:\n    for gene in upregulated_genes_list:\n        f.write(f\"{gene}\\n\")\n\nwith open('downregulated_genes.txt', 'w') as f:\n    for gene in downregulated_genes_list:\n        f.write(f\"{gene}\\n\")\n\nprint(f\"Upregulated gene list saved to 'upregulated_genes.txt' ({len(upregulated_genes_list)} genes).\")\nprint(f\"Downregulated gene list saved to 'downregulated_genes.txt' ({len(downregulated_genes_list)} genes).\")",
      "metadata": {
        "trusted": true
      },
      "outputs": [],
      "execution_count": null
    },
    {
      "id": "7f9f62b2-b7db-4f98-9cbd-d8f59a79f024",
      "cell_type": "markdown",
      "source": "---",
      "metadata": {}
    },
    {
      "id": "e94210a9-da6a-4d97-b748-692dae2d54ce",
      "cell_type": "code",
      "source": "",
      "metadata": {
        "trusted": true
      },
      "outputs": [],
      "execution_count": null
    }
  ]
}